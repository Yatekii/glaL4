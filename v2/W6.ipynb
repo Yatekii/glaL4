{
 "cells": [
  {
   "cell_type": "code",
   "execution_count": 1,
   "metadata": {
    "ExecuteTime": {
     "end_time": "2017-06-01T10:10:53.074332Z",
     "start_time": "2017-06-01T12:10:51.672051+02:00"
    },
    "code_folding": [
     0
    ],
    "collapsed": false,
    "deletable": true,
    "editable": true
   },
   "outputs": [],
   "source": [
    "# Preparations\n",
    "import math\n",
    "import pandas as pd\n",
    "import matplotlib.pyplot as plt\n",
    "import matplotlib.patches as mpatches\n",
    "import numpy as np\n",
    "from scipy import stats\n",
    "from scipy.optimize import curve_fit\n",
    "import seaborn as sns\n",
    "from IPython.display import Latex\n",
    "import warnings\n",
    "from PrettyTable import PrettyTable\n",
    "from functools import partial\n",
    "from PrettyFigure import PrettyFigure\n",
    "warnings.filterwarnings(\"ignore\")\n",
    "%matplotlib inline\n",
    "%config InlineBackend.figure_format = 'svg'\n",
    "plt.rcParams['savefig.dpi'] = 75\n",
    "\n",
    "# plt.rcParams['figure.autolayout'] = False\n",
    "# plt.rcParams['figure.figsize'] = 10, 6\n",
    "plt.rcParams['axes.labelsize'] = 18\n",
    "plt.rcParams['axes.titlesize'] = 20\n",
    "plt.rcParams['font.size'] = 16\n",
    "plt.rcParams['lines.linewidth'] = 2.0\n",
    "plt.rcParams['lines.markersize'] = 8\n",
    "plt.rcParams['legend.fontsize'] = 14\n",
    "\n",
    "plt.rcParams['text.usetex'] = True\n",
    "plt.rcParams['text.latex.unicode'] = True\n",
    "plt.rcParams['font.family'] = \"STIX\"\n",
    "plt.rcParams['text.latex.preamble'] = \"\\\\usepackage{subdepth}, \\\\usepackage{type1cm}\"\n",
    "\n",
    "results = {}\n",
    "\n",
    "sns.set(color_codes=True)\n",
    "\n",
    "def average(data):\n",
    "    return 1 / len(data) * sum(data)\n",
    "\n",
    "def error(data, average_of_data):\n",
    "    s = sum([(x - average_of_data)**2 for x in data])\n",
    "    return math.sqrt(s / (len(data) * (len(data) - 1)))\n",
    "\n",
    "def std_deviation(error_of_average, length_of_dataset):\n",
    "    return error_of_average * math.sqrt(length_of_dataset)\n",
    "\n",
    "def average_with_weights(data, weights):\n",
    "    d = data\n",
    "    w = weights\n",
    "    return (d * w**-2).sum() / (w**-2).sum()\n",
    "\n",
    "def error_with_weights(weights):\n",
    "    w = weights\n",
    "    return 1 / math.sqrt((w**-2).sum())\n",
    "\n",
    "def wavg(group, avg_name, weight_name):\n",
    "    d = group[avg_name]\n",
    "    w = group[weight_name]\n",
    "    return (d * w**-2).sum() / (w**-2).sum()\n",
    "\n",
    "def werr(group, weight_name):\n",
    "    return 1 / math.sqrt((group[weight_name]**-2).sum())"
   ]
  },
  {
   "cell_type": "code",
   "execution_count": 2,
   "metadata": {
    "ExecuteTime": {
     "end_time": "2017-06-01T10:10:53.081254Z",
     "start_time": "2017-06-01T12:10:53.076552+02:00"
    },
    "code_folding": [],
    "collapsed": false,
    "deletable": true,
    "editable": true
   },
   "outputs": [],
   "source": [
    "# Constants\n",
    "x0 = 1.0219 # [m]\n",
    "e0 = 6e-2 # [m]"
   ]
  },
  {
   "cell_type": "markdown",
   "metadata": {
    "deletable": true,
    "editable": true
   },
   "source": [
    "# Theoretische Grundlagen\n",
    "\n",
    "In diesm Versuch wird ein horizontal gelagertes Federpendel unter harmonischer Anregung untersucht.\n",
    "Durch den Wirbelstrombremseffekt wirkt eine geschwindigkeitsproportionale Reibkraft\n",
    "\n",
    "\\begin{equation}\n",
    "F_{reib} = -\\beta\\cdot v\n",
    "\\label{eq:Freib}\n",
    "\\end{equation}\n",
    "\n",
    "bremsend auf das Pendel. Wobei $\\beta$ durch die Anzahl Magneten auf dem Pendel konstant gegeben ist.\n",
    "\n",
    "Die Anregung kann mit\n",
    "\n",
    "\\begin{equation}\n",
    "F_{anr}(t) = \\hat{F}_e\\cdot cos(\\Omega t)\n",
    "\\label{eq:Fanr}\n",
    "\\end{equation}\n",
    "\n",
    "dargestellt werden, wobei\n",
    "\n",
    "\\begin{equation}\n",
    "\\hat{F}_e = \\hat{y}_e \\cdot k_1\n",
    "\\label{eq:Fe}\n",
    "\\end{equation}\n",
    "\n",
    "gilt.\n",
    "\n",
    "## Gedämpfte Schwingung\n",
    "\n",
    "Für ein freies geschwindigkeitsproportional gedämpftes Pendel gilt\n",
    "\n",
    "\\begin{equation}\n",
    "y(t) = \\hat{y}\\cdot e^{-\\Gamma t}cos(\\omega t - \\delta)\n",
    "\\label{eq:pendel}\n",
    "\\end{equation}\n",
    "\n",
    "mit\n",
    "\n",
    "<center>\n",
    "$\\Gamma=\\frac{\\beta}{2m}$  \n",
    "$\\omega=\\sqrt{\\omega^2_0-\\Gamma^2}$  \n",
    "$\\omega^2_0 = \\frac{K_{tot}}{m}$\n",
    "$\\Gamma$: Abklingkonstante  \n",
    "$\\omega$: Kreisfrequenz des gedaempften Pendels  \n",
    "$\\omega_0$: Kreisfrequenz des ungedaempften Pendels\n",
    "</center>\n",
    "\n",
    "## Erzwungene Schwingung\n",
    "\n",
    "Die erzwungene Schwingung hat die Form\n",
    "\n",
    "\\begin{equation}\n",
    "\\hat{y}(\\gamma) = \\frac{k_1\\cdot\\hat{y}_e}{m\\cdot\\omega^2_0}\\cdot\\frac{1}{\\sqrt{(1-\\gamma^2)^2+4\\gamma^2\\alpha^2}}\n",
    "\\label{eq:pendelerzwungen}\n",
    "\\end{equation}\n",
    "\n",
    "mit\n",
    "\n",
    "<center>\n",
    "$\\gamma=\\frac{\\Omega}{\\omega_0}=\\frac{f_e}{f_0}$  \n",
    "$\\alpha=\\frac{\\Gamma}{\\omega_0}=\\frac{\\Gamma}{2\\pi f_0}$  \n",
    "$\\hat{y}_N = \\hat{y}_0\\cdot e^{-2\\pi\\alpha N}$  \n",
    "$tan\\delta=\\frac{2\\gamma\\alpha}{1-\\gamma^2}$\n",
    "</center>"
   ]
  },
  {
   "cell_type": "raw",
   "metadata": {
    "ExecuteTime": {
     "end_time": "2017-05-27T20:27:20.121647",
     "start_time": "2017-05-27T20:27:20.118183"
    },
    "deletable": true,
    "editable": true
   },
   "source": [
    "\\newpage"
   ]
  },
  {
   "cell_type": "markdown",
   "metadata": {
    "deletable": true,
    "editable": true
   },
   "source": [
    "# Versuchsaufbau\n",
    "\n",
    "Im folgenden sieht man das Fahrbahnpendel welches ausgemessen wird.\n",
    "Es ist auf einer Fahrbahn gelagert, welche durch Druckluft den Gleiter anhebt. Oben und unten ist das Pendel mit zwei identischen Federn befestigt. Am oberen Ende ist der Gleiter durch ein Überesetzungsgestänge an einem Schrittmotor befestigt, welcher das Pendel anregt.\n",
    "Zwei Lichtschranken registrieren die Nulldurchläufe des Pendels und des Schrittmotors.\n",
    "\n",
    "![Versuchsaufbau](images/versuchsaufbau.png)"
   ]
  },
  {
   "cell_type": "code",
   "execution_count": null,
   "metadata": {
    "collapsed": true,
    "deletable": true,
    "editable": true
   },
   "outputs": [],
   "source": []
  },
  {
   "cell_type": "raw",
   "metadata": {
    "deletable": true,
    "editable": true
   },
   "source": [
    "\\newpage"
   ]
  },
  {
   "cell_type": "markdown",
   "metadata": {
    "deletable": true,
    "editable": true
   },
   "source": [
    "# Versuchsdurchführung\n",
    "\n",
    "Zuerst wurde die Schwingungsdauer des Pendels bestimmt.\n",
    "Dazu wurde das Pendel um verschiedene Distanzen $x_0$ ausgelenkt und dann losgelassen. Eine Lichtschranke registriert dabei jeden zweiten Nulldurchgang und stoppt dabei die Zeit.\n",
    "Für jede Auslenkung $x_0$ wurde zweimal gemessen.\n",
    "Die Triggerschwelle wurde dabei nicht zwischen 1-4 Volt gewählt wie im Versuchsbeschrieb empfohlen sondern nach der Empfehlung von Prof. Minamisawa auf 0.6 V eingestellt."
   ]
  },
  {
   "cell_type": "code",
   "execution_count": 3,
   "metadata": {
    "ExecuteTime": {
     "end_time": "2017-06-01T10:10:58.311140Z",
     "start_time": "2017-06-01T12:10:53.084398+02:00"
    },
    "code_folding": [],
    "collapsed": false,
    "deletable": true,
    "editable": true,
    "scrolled": false
   },
   "outputs": [
    {
     "data": {
      "text/html": [
       "<img src=\"images/figures/periodendauer.png\" alt=\"Gemessene Periodendauer und die mittlere Periodendauer.\" style=\"display: block;margin-left: auto;margin-right: auto\">\n",
       "<p style=\"text-align:center\">Gemessene Periodendauer und die mittlere Periodendauer.</p>\n"
      ],
      "text/latex": [
       "\\begin{figure}[H]\n",
       "    \\center\n",
       "    \\includegraphics{images/figures/periodendauer.pdf}\n",
       "    \\caption{Gemessene Periodendauer und die mittlere Periodendauer.}\n",
       "    \\label{fig:periodendauer}\n",
       "\\end{figure}\n",
       "        "
      ],
      "text/plain": [
       "<PrettyFigure.PrettyFigure at 0x108f7d588>"
      ]
     },
     "metadata": {},
     "output_type": "display_data"
    }
   ],
   "source": [
    "# Read Data\n",
    "df = pd.read_csv('data/period.csv')\n",
    "dfp = df\n",
    "\n",
    "v1T = df['T'].mean()\n",
    "v1sT = error(df['T'], v1T)\n",
    "\n",
    "ax = df.plot(kind='scatter', x='x', y='T', label='gemessene Periode')\n",
    "plt.axhline(v1T, label='mittlere Periodendauer', axes=ax, color='red')\n",
    "plt.xlabel('x [m]')\n",
    "plt.ylabel('T [s]')\n",
    "# plt.ylim([0.005, 0.007])\n",
    "plt.legend(bbox_to_anchor=(0.02, 0.98), loc=2, borderaxespad=0.2)\n",
    "\n",
    "figure = PrettyFigure(\n",
    "        plt.gcf(),\n",
    "        label='fig:periodendauer',\n",
    "        caption='Gemessene Periodendauer und die mittlere Periodendauer.'\n",
    ")\n",
    "plt.close()\n",
    "figure.show()"
   ]
  },
  {
   "cell_type": "markdown",
   "metadata": {
    "deletable": true,
    "editable": true,
    "variables": {
     "'{:.2f}'.format(v1T)": "1.34",
     "'{:.2f}'.format(v1sT)": "0.00"
    }
   },
   "source": [
    "Damit ergibt sich ein $T$ von {{'{:.2f}'.format(v1T)}} ± {{'{:.2f}'.format(v1sT)}}$s^{-1}$.\n",
    "\n",
    "Um $\\omega$ und $\\Gamma$ zu berechnen wird das Pendel ausgelenkt und dann schwingen gelassen. Mit einem Fit an den Amplitudenverlauf können die gewünschten Werte durch den LSQ-Algotithmus ermittelt werden."
   ]
  },
  {
   "cell_type": "code",
   "execution_count": 4,
   "metadata": {
    "ExecuteTime": {
     "end_time": "2017-06-01T10:11:13.127082Z",
     "start_time": "2017-06-01T12:10:58.335406+02:00"
    },
    "code_folding": [],
    "collapsed": false,
    "deletable": true,
    "editable": true,
    "scrolled": false
   },
   "outputs": [
    {
     "data": {
      "text/html": [
       "<img src=\"images/figures/auslenkung.png\" alt=\"Auslenkung des Pendels über Zeit nach initialer Auslenkung und Loslassen mit LSQ-Fit.\" style=\"display: block;margin-left: auto;margin-right: auto\">\n",
       "<p style=\"text-align:center\">Auslenkung des Pendels über Zeit nach initialer Auslenkung und Loslassen mit LSQ-Fit.</p>\n"
      ],
      "text/latex": [
       "\\begin{figure}[H]\n",
       "    \\center\n",
       "    \\includegraphics{images/figures/auslenkung.pdf}\n",
       "    \\caption{Auslenkung des Pendels über Zeit nach initialer Auslenkung und Loslassen mit LSQ-Fit.}\n",
       "    \\label{fig:auslenkung}\n",
       "\\end{figure}\n",
       "        "
      ],
      "text/plain": [
       "<PrettyFigure.PrettyFigure at 0x10cda1780>"
      ]
     },
     "metadata": {},
     "output_type": "display_data"
    },
    {
     "data": {
      "text/html": [
       "<img src=\"images/figures/auslenkungen_fit.png\" alt=\"Auslenkung des Pendels über Zeit bei verschiedenen initialen Auslenkungen und Loslassen gefittet.\" style=\"display: block;margin-left: auto;margin-right: auto\">\n",
       "<p style=\"text-align:center\">Auslenkung des Pendels über Zeit bei verschiedenen initialen Auslenkungen und Loslassen gefittet.</p>\n"
      ],
      "text/latex": [
       "\\begin{figure}[H]\n",
       "    \\center\n",
       "    \\includegraphics{images/figures/auslenkungen_fit.pdf}\n",
       "    \\caption{Auslenkung des Pendels über Zeit bei verschiedenen initialen Auslenkungen und Loslassen gefittet.}\n",
       "    \\label{fig:auslenkungen_fit}\n",
       "\\end{figure}\n",
       "        "
      ],
      "text/plain": [
       "<PrettyFigure.PrettyFigure at 0x108fc8a58>"
      ]
     },
     "metadata": {},
     "output_type": "display_data"
    },
    {
     "data": {
      "text/html": [
       "<img src=\"images/figures/w0_auslenkungen_fit.png\" alt=\"Eigenfrequenz des Pendels errechnet aus den verschiedenen Runs.\" style=\"display: block;margin-left: auto;margin-right: auto\">\n",
       "<p style=\"text-align:center\">Eigenfrequenz des Pendels errechnet aus den verschiedenen Runs.</p>\n"
      ],
      "text/latex": [
       "\\begin{figure}[H]\n",
       "    \\center\n",
       "    \\includegraphics{images/figures/w0_auslenkungen_fit.pdf}\n",
       "    \\caption{Eigenfrequenz des Pendels errechnet aus den verschiedenen Runs.}\n",
       "    \\label{fig:w0_auslenkungen_fit}\n",
       "\\end{figure}\n",
       "        "
      ],
      "text/plain": [
       "<PrettyFigure.PrettyFigure at 0x10c2f9908>"
      ]
     },
     "metadata": {},
     "output_type": "display_data"
    }
   ],
   "source": [
    "# Amplitudenfit\n",
    "\n",
    "def pendulum(t, y, gamma, w, d, y0):\n",
    "    return y * np.exp(-gamma * t) * np.cos(w * t - d) + y0\n",
    "\n",
    "df = pd.DataFrame()\n",
    "dft = None\n",
    "\n",
    "for run in range(1, 6):\n",
    "    dft = pd.read_csv('data/W6/3.2.{:}.txt'.format(run), sep='\\t', skiprows=3, header=None, names=('t', 'y'))\n",
    "    v, covar = curve_fit(pendulum, dft['t'], dft['y'])\n",
    "    df = df.append(pd.DataFrame([np.concatenate((v, np.sqrt(np.diag(covar))[1:3]))], columns=('y', 'gamma', 'w', 'd', 'y0', 'sgamma', 'sw')))\n",
    "    y_fit = [pendulum(t, v[0], v[1], v[2], v[3], v[4]) for t in dft['t']]\n",
    "\n",
    "ax = dft.plot(kind='scatter', x='t', y='y', label='gemessene Auslenkung')\n",
    "plt.plot(dft['t'], y_fit, axes=ax, label='Auslenkung mit Value Fitting', color='red')\n",
    "plt.xlabel('Zeit [s]')\n",
    "plt.ylabel('Auslenkung [m]')\n",
    "plt.legend(bbox_to_anchor=(0.02, 0.98), loc=2, borderaxespad=0.2)\n",
    "figure = PrettyFigure(\n",
    "        plt.gcf(),\n",
    "        label='fig:auslenkung',\n",
    "        caption='Auslenkung des Pendels über Zeit nach initialer Auslenkung und Loslassen mit LSQ-Fit.'\n",
    ")\n",
    "plt.close()\n",
    "figure.show()\n",
    "\n",
    "df['w'] = np.abs(df['w'])\n",
    "v2w0 = df['w0'] = np.sqrt(df['w']**2 + df['gamma'])\n",
    "v2sw0 = np.sqrt(\n",
    "               ((df['w']**2 + df['gamma'])**-1/2 + 2*df['w']) * df['sw']\n",
    "              +((df['gamma']**2 + df['w'])**-1/2 + 2*df['gamma']) * df['sgamma']\n",
    "             )\n",
    "\n",
    "for index, row in df.iterrows():\n",
    "    plt.plot(dft['t'], [pendulum(t, row['y'], row['gamma'], row['w'], row['d'], row['y0']) for t in dft['t']], label='Auslenkung mit Value Fitting')\n",
    "plt.xlabel('Zeit [s]')\n",
    "plt.ylabel('Auslenkung [m]')\n",
    "plt.legend(bbox_to_anchor=(0.02, 0.98), loc=2, borderaxespad=0.2)\n",
    "figure = PrettyFigure(\n",
    "        plt.gcf(),\n",
    "        label='fig:auslenkungen_fit',\n",
    "        caption='Auslenkung des Pendels über Zeit bei verschiedenen initialen Auslenkungen und Loslassen gefittet.'\n",
    ")\n",
    "plt.close()\n",
    "figure.show()\n",
    "    \n",
    "plt.figure()\n",
    "plt.errorbar(np.arange(1,6), np.array(v2w0), yerr=np.array(v2sw0))\n",
    "plt.xlim(0, 6)\n",
    "plt.xlabel('Run \\#')\n",
    "plt.ylabel('$\\omega_0 [s^{-1}]')\n",
    "plt.legend(bbox_to_anchor=(0.02, 0.98), loc=2, borderaxespad=0.2)\n",
    "figure = PrettyFigure(\n",
    "        plt.gcf(),\n",
    "        label='fig:w0_auslenkungen_fit',\n",
    "        caption='Eigenfrequenz des Pendels errechnet aus den verschiedenen Runs.'\n",
    ")\n",
    "plt.close()\n",
    "figure.show()\n",
    "v2df = df"
   ]
  },
  {
   "cell_type": "markdown",
   "metadata": {
    "deletable": true,
    "editable": true,
    "variables": {
     "'{:.2f}'.format(v2sw0.mean())": "0.04",
     "'{:.2f}'.format(v2w0.mean())": "4.45"
    }
   },
   "source": [
    "Wenn wir die Formel\n",
    "\n",
    "<center>\n",
    "$\\omega=\\sqrt{\\omega^2_0-\\Gamma^2}$\n",
    "</center>\n",
    "\n",
    "benutzen um $w_0$ zu ermitteln erhalten wir einen Mittelwert von {{'{:.2f}'.format(v2w0.mean())}} ± {{'{:.2f}'.format(v2sw0.mean())}} $s^{-1}$.\n",
    "\n",
    "Im weiteren Verlauf des Versuches soll mit Hilfe von Amplituden und Phasenresonanz erneut $\\omega_0$ bestimmt und mit dem aus der gedämpften Schwingung verglichen werden.\n",
    "\n",
    "Da das Pendel zweiseitig mit identischen Federn eingespannt ist, ergibt sich $\\omega^2_0 = \\frac{2k}{m}$ mit $k = k_1$.\n",
    "\n",
    "Damit kann \\ref{eq:pendelerzwungen} auf\n",
    "\n",
    "\\begin{equation}\n",
    "\\hat{y}(\\Omega) = \\frac{\\hat{y}_e}{2}\\cdot\\frac{1}{\\sqrt{ (1-(\\frac{\\Omega}{\\omega_0})^2)^2  + 4 (\\frac{\\Omega}{\\omega_0})^2 (\\frac{\\Gamma}{\\omega_0})^2}}\n",
    "\\label{eq:ydach}\n",
    "\\end{equation}\n",
    "\n",
    "reduziert werden. Ein Fit wird nun im Folgenden gemacht."
   ]
  },
  {
   "cell_type": "code",
   "execution_count": 5,
   "metadata": {
    "ExecuteTime": {
     "end_time": "2017-06-01T10:11:17.246726Z",
     "start_time": "2017-06-01T12:11:13.172740+02:00"
    },
    "code_folding": [],
    "collapsed": false,
    "deletable": true,
    "editable": true,
    "scrolled": false
   },
   "outputs": [
    {
     "data": {
      "text/html": [
       "<img src=\"images/figures/auslenkung_erreg.png\" alt=\"Amplituden nach Enschwingen bei verschiedenen Erregerfrequenzen.\" style=\"display: block;margin-left: auto;margin-right: auto\">\n",
       "<p style=\"text-align:center\">Amplituden nach Enschwingen bei verschiedenen Erregerfrequenzen.</p>\n"
      ],
      "text/latex": [
       "\\begin{figure}[H]\n",
       "    \\center\n",
       "    \\includegraphics{images/figures/auslenkung_erreg.pdf}\n",
       "    \\caption{Amplituden nach Enschwingen bei verschiedenen Erregerfrequenzen.}\n",
       "    \\label{fig:auslenkung_erreg}\n",
       "\\end{figure}\n",
       "        "
      ],
      "text/plain": [
       "<PrettyFigure.PrettyFigure at 0x1031a6e48>"
      ]
     },
     "metadata": {},
     "output_type": "display_data"
    }
   ],
   "source": [
    "def pendulum(W, y, gamma, w0):\n",
    "    return y / 2 * 1 / ((1 - (W / w0)**2)**2 + 4 * (W/w0)**2 * (gamma/w0)**2)\n",
    "\n",
    "dft = pd.read_csv('data/resonance.csv')\n",
    "dft['W'] = 2 * math.pi / dft['T']\n",
    "v3v, covar = curve_fit(pendulum, dft['W'], dft['A'], maxfev=10000)\n",
    "v3err = np.sqrt(np.diag(covar))\n",
    "y_fit = pendulum(np.linspace(0, 6, 3000), v3v[0], v3v[1], v3v[2])\n",
    "\n",
    "ax = dft.plot(kind='scatter', x='W', y='A', label='gemessene Auslenkung unter Resonanz')\n",
    "plt.plot(np.linspace(0, 6, 3000), y_fit, axes=ax, label='Auslenkung mit Value Fitting', color='red')\n",
    "plt.xlabel('Erregerfrequenz [$s^{-1}$]')\n",
    "plt.ylabel('Amplitude nach Einschwingvorgang [m]')\n",
    "plt.legend(bbox_to_anchor=(0.02, 0.98), loc=2, borderaxespad=0.2)\n",
    "figure = PrettyFigure(\n",
    "        ax.figure,\n",
    "        label='fig:auslenkung_erreg',\n",
    "        caption='Amplituden nach Enschwingen bei verschiedenen Erregerfrequenzen.'\n",
    ")\n",
    "plt.close()\n",
    "figure.show()"
   ]
  },
  {
   "cell_type": "markdown",
   "metadata": {
    "deletable": true,
    "editable": true,
    "variables": {
     "'{:.2f}'.format(v3err[2])": "0.02",
     "'{:.2f}'.format(v3v[2])": "4.46"
    }
   },
   "source": [
    "Aus dem Fit kann nun $\\omega_0$ als {{'{:.2f}'.format(v3v[2])}} ± {{'{:.2f}'.format(v3err[2])}} $s^{-1}$ bestimmt werden.\n",
    "Nun soll $\\omega_0$ auch noch aus der Phasenresonanz bestimmt werden."
   ]
  },
  {
   "cell_type": "code",
   "execution_count": 6,
   "metadata": {
    "ExecuteTime": {
     "end_time": "2017-06-01T10:11:22.865006Z",
     "start_time": "2017-06-01T12:11:17.276241+02:00"
    },
    "code_folding": [
     0
    ],
    "collapsed": false,
    "deletable": true,
    "editable": true
   },
   "outputs": [
    {
     "data": {
      "text/html": [
       "<img src=\"images/figures/auslenkung_phase.png\" alt=\"Phase bei verschiedenen Erregerfrequenzen.\" style=\"display: block;margin-left: auto;margin-right: auto\">\n",
       "<p style=\"text-align:center\">Phase bei verschiedenen Erregerfrequenzen.</p>\n"
      ],
      "text/latex": [
       "\\begin{figure}[H]\n",
       "    \\center\n",
       "    \\includegraphics{images/figures/auslenkung_phase.pdf}\n",
       "    \\caption{Phase bei verschiedenen Erregerfrequenzen.}\n",
       "    \\label{fig:auslenkung_phase}\n",
       "\\end{figure}\n",
       "        "
      ],
      "text/plain": [
       "<PrettyFigure.PrettyFigure at 0x10c3530b8>"
      ]
     },
     "metadata": {},
     "output_type": "display_data"
    }
   ],
   "source": [
    "# Phase fit\n",
    "\n",
    "def pendulum(W, gamma, w0, y0):\n",
    "    x = (w0**2 - W**2) / np.sqrt((w0**2 - W**2)**2 + 4 * gamma**2 * W**2) + y0\n",
    "    return np.arccos(x)\n",
    "\n",
    "dft = pd.read_csv('data/resonance.csv')\n",
    "dft['W'] = 2 * math.pi / dft['T']\n",
    "v4v, covar = curve_fit(pendulum, dft['W'], dft['phi'], maxfev=10000)\n",
    "v4err = np.sqrt(np.diag(covar))\n",
    "y_fit = pendulum(np.linspace(0, 6, 3000), v4v[0], v4v[1], v4v[2])\n",
    "\n",
    "ax = dft.plot(kind='scatter', x='W', y='phi', label='gemessene Auslenkung unter Resonanz')\n",
    "plt.plot(np.linspace(0, 6, 3000), y_fit, axes=ax, label='Auslenkung mit Value Fitting', color='red')\n",
    "plt.xlabel('Erregerfrequenz [$s^{-1}$]')\n",
    "plt.ylabel('$\\delta$ [rad]')\n",
    "plt.legend(bbox_to_anchor=(0.02, 0.98), loc=2, borderaxespad=0.2)\n",
    "figure = PrettyFigure(\n",
    "        ax.figure,\n",
    "        label='fig:auslenkung_phase',\n",
    "        caption='Phase bei verschiedenen Erregerfrequenzen.'\n",
    ")\n",
    "plt.close()\n",
    "figure.show()"
   ]
  },
  {
   "cell_type": "markdown",
   "metadata": {
    "deletable": true,
    "editable": true,
    "variables": {
     "'{:.2f}'.format(v4err[1])": "0.08",
     "'{:.2f}'.format(v4v[1])": "4.74"
    }
   },
   "source": [
    "Aus dem Fit kann nun $\\omega_0$ als {{'{:.2f}'.format(v4v[1])}} ± {{'{:.2f}'.format(v4err[1])}} $s^{-1}$ bestimmt werden."
   ]
  },
  {
   "cell_type": "raw",
   "metadata": {
    "deletable": true,
    "editable": true
   },
   "source": [
    "\\newpage"
   ]
  },
  {
   "cell_type": "markdown",
   "metadata": {
    "deletable": true,
    "editable": true
   },
   "source": [
    "# Fehlerrechnung\n",
    "\n",
    "Um erkennen zu können wie gut der Fit war wird mit jedem Fit eine Fehlertoleranz errechnet. Da be der Methode mit der gedämpften Schwingung jedoch nicht $\\omega_0$ errechet wurde, wurde das Fehlerfortpflanzungsgesetz\n",
    "\n",
    "<center>\n",
    "    $s_{\\omega_0} = \\sqrt{ \\frac{\\partial\\omega_0}{\\partial\\omega}\\Big|_{\\omega_0} \\cdot s_\\omega + \\frac{\\partial\\omega_0}{\\partial\\Gamma}\\Big|_{\\omega_0} \\cdot s_\\Gamma }$\n",
    "</center>\n",
    "\n",
    "mit\n",
    "\n",
    "<center>\n",
    "    $\\frac{\\partial\\omega_0}{\\partial\\omega} = (\\omega^2 + \\Gamma^2)^{-\\frac{1}{2}} + 2\\omega$  \n",
    "    $\\frac{\\partial\\omega_0}{\\partial\\Gamma} = (\\omega^2 + \\Gamma^2)^{-\\frac{1}{2}} + 2\\Gamma$\n",
    "</center>\n",
    "\n",
    "angewandt um den Fehler für $\\omega_0$ zu berechnen.\n",
    "Alle anderen Fehler wurden durch den Fit automatisch mitberechnet.\n",
    "Da der systematische Fehler durch die hohe Messgenauigkeit des Distanzmessers und des Zeitmessers viel kleiner ist als der statistische, haben wir nur den statistischen Fehler zu beachten.\n",
    "Die errechneten statistischen Fehler sind in den Resultaten tabellarisch dargestellt."
   ]
  },
  {
   "cell_type": "code",
   "execution_count": null,
   "metadata": {
    "collapsed": true,
    "deletable": true,
    "editable": true
   },
   "outputs": [],
   "source": []
  },
  {
   "cell_type": "raw",
   "metadata": {
    "deletable": true,
    "editable": true
   },
   "source": [
    "\\newpage"
   ]
  },
  {
   "cell_type": "markdown",
   "metadata": {
    "deletable": true,
    "editable": true
   },
   "source": [
    "# Resultate\n",
    "\n",
    "Im Folgenden sind die Resultate zur besseren Uebersicht noch einmal tabellarisch sowie grafisch gegenübergestellt."
   ]
  },
  {
   "cell_type": "code",
   "execution_count": 7,
   "metadata": {
    "ExecuteTime": {
     "end_time": "2017-06-01T10:11:22.933591Z",
     "start_time": "2017-06-01T12:11:22.900402+02:00"
    },
    "collapsed": false,
    "deletable": true,
    "editable": true
   },
   "outputs": [
    {
     "data": {
      "text/html": [
       "<table style=\"margin:auto;\"><tr><td>Messart</td><td>w\\_0 [1/s]</td><td>s\\_w\\_0 [1/s]</td><td>s\\_w\\_0 relativ [percent]</td><td>w [1/s]</td><td>s\\_w [1/s]</td></tr><tr><td>Gedämpfte Schwingung</td><td>4.45E+00</td><td>3.96E-02</td><td>0.89</td><td>4.44E+00</td><td>2.01E-04</td></tr><tr><td>Amplitudenresonanz</td><td>4.46E+00</td><td>2.37E-02</td><td>0.53</td><td>0.00E+00</td><td>0.00E+00</td></tr><tr><td>Phasenresonanz</td><td>4.74E+00</td><td>8.27E-02</td><td>1.74</td><td>0.00E+00</td><td>0.00E+00</td></tr></table><p style=\"text-align:center\">Die verschieden errechneten Eigenfrequenzen mit ihren Fehlern.</p>"
      ],
      "text/latex": [
       "\\begin{longtable}[H]{@{}llllll@{}}\n",
       "\\toprule\\addlinespace\n",
       "Messart & w\\_0 [1/s] & s\\_w\\_0 [1/s] & s\\_w\\_0 relativ [percent] & w [1/s] & s\\_w [1/s]\\\\\\addlinespace \n",
       "\\midrule\\endhead\n",
       "Gedämpfte Schwingung & 4.45E+00 & 3.96E-02 & 0.89 & 4.44E+00 & 2.01E-04\\\\\\addlinespace \n",
       "Amplitudenresonanz & 4.46E+00 & 2.37E-02 & 0.53 & 0.00E+00 & 0.00E+00\\\\\\addlinespace \n",
       "Phasenresonanz & 4.74E+00 & 8.27E-02 & 1.74 & 0.00E+00 & 0.00E+00\\\\\\addlinespace \n",
       "\\\\\\bottomrule\\caption{Die verschieden errechneten Eigenfrequenzen mit ihren Fehlern.}\\\\\\label{None}\n",
       " \\end{longtable}"
      ],
      "text/plain": [
       "[['Messart',\n",
       "  'w\\\\_0 [1/s]',\n",
       "  's\\\\_w\\\\_0 [1/s]',\n",
       "  's\\\\_w\\\\_0 relativ [percent]',\n",
       "  'w [1/s]',\n",
       "  's\\\\_w [1/s]'],\n",
       " ('Gedämpfte Schwingung',\n",
       "  '4.45E+00',\n",
       "  '3.96E-02',\n",
       "  '0.89',\n",
       "  '4.44E+00',\n",
       "  '2.01E-04'),\n",
       " ('Amplitudenresonanz',\n",
       "  '4.46E+00',\n",
       "  '2.37E-02',\n",
       "  '0.53',\n",
       "  '0.00E+00',\n",
       "  '0.00E+00'),\n",
       " ('Phasenresonanz', '4.74E+00', '8.27E-02', '1.74', '0.00E+00', '0.00E+00')]"
      ]
     },
     "metadata": {},
     "output_type": "display_data"
    }
   ],
   "source": [
    "labels = ['Gedämpfte Schwingung',\n",
    "          'Amplitudenresonanz',\n",
    "          'Phasenresonanz',\n",
    "]\n",
    "x = [\n",
    "    v2w0.mean(),\n",
    "    v3v[2],\n",
    "    v4v[1],\n",
    "]\n",
    "\n",
    "xerr = [\n",
    "    v2sw0.mean(),\n",
    "    v3err[2],\n",
    "    v4err[1],\n",
    "]\n",
    "y = [\n",
    "    v2df['w'].mean(),\n",
    "    0,\n",
    "    0\n",
    "]\n",
    "yerr = [\n",
    "    v2df['sw'].mean(),\n",
    "    0,\n",
    "    0\n",
    "]\n",
    "xstr = list(map(('{0:.2E}').format, x))\n",
    "xerrstr = list(map(('{0:.2E}').format, xerr))\n",
    "xerrrelstr = list(map(('{0:.2f}').format, np.array(xerr) / np.array(x) * 100))\n",
    "ystr = list(map(('{0:.2E}').format, y))\n",
    "yerrstr = list(map(('{0:.2E}').format, yerr))\n",
    "data = PrettyTable(\n",
    "    list(zip(labels, xstr, xerrstr, xerrrelstr, ystr, yerrstr)),\n",
    "    caption='Die verschieden errechneten Eigenfrequenzen mit ihren Fehlern.',\n",
    "    entries_per_column=len(xstr),\n",
    "    extra_header=['Messart', 'w\\_0 [1/s]', 's\\_w\\_0 [1/s]', 's\\_w\\_0 relativ [percent]', 'w [1/s]', 's\\_w [1/s]'],\n",
    "    significant_digits=2\n",
    ")\n",
    "data.show()"
   ]
  },
  {
   "cell_type": "code",
   "execution_count": 8,
   "metadata": {
    "ExecuteTime": {
     "end_time": "2017-06-01T10:11:26.952585Z",
     "start_time": "2017-06-01T12:11:22.936422+02:00"
    },
    "collapsed": false,
    "deletable": true,
    "editable": true
   },
   "outputs": [
    {
     "data": {
      "text/html": [
       "<img src=\"images/figures/w0.png\" alt=\"Die errechneten Eigenfrequenzen im Vergleich.\" style=\"display: block;margin-left: auto;margin-right: auto\">\n",
       "<p style=\"text-align:center\">Die errechneten Eigenfrequenzen im Vergleich.</p>\n"
      ],
      "text/latex": [
       "\\begin{figure}[H]\n",
       "    \\center\n",
       "    \\includegraphics{images/figures/w0.pdf}\n",
       "    \\caption{Die errechneten Eigenfrequenzen im Vergleich.}\n",
       "    \\label{fig:w0}\n",
       "\\end{figure}\n",
       "        "
      ],
      "text/plain": [
       "<PrettyFigure.PrettyFigure at 0x10ae25e10>"
      ]
     },
     "metadata": {},
     "output_type": "display_data"
    }
   ],
   "source": [
    "y = np.linspace(1, 6, 3)\n",
    "plt.errorbar(x, y, xerr=xerr, fmt='o')\n",
    "plt.yticks(y, labels, rotation='horizontal')\n",
    "plt.ylim((0, 7))\n",
    "figure = PrettyFigure(\n",
    "    plt.gcf(),\n",
    "    label='fig:w0',\n",
    "    caption='Die errechneten Eigenfrequenzen im Vergleich.'\n",
    ")\n",
    "plt.close()\n",
    "figure.show()"
   ]
  },
  {
   "cell_type": "code",
   "execution_count": 9,
   "metadata": {
    "ExecuteTime": {
     "end_time": "2017-06-01T10:11:26.979698Z",
     "start_time": "2017-06-01T12:11:26.955695+02:00"
    },
    "code_folding": [],
    "collapsed": false,
    "deletable": true,
    "editable": true
   },
   "outputs": [
    {
     "data": {
      "text/html": [
       "<table style=\"margin:auto;\"><tr><td>Messart</td><td>Abklingkonstante [1/s]</td><td>Fehler [1/s]</td><td>relativer Fehler [percent]</td></tr><tr><td>Gedämpfte Schwingung</td><td>8.96E-02</td><td>1.98E-04</td><td>0.22</td></tr><tr><td>Amplitudenresonanz</td><td>2.14E-01</td><td>3.78E-02</td><td>17.67</td></tr><tr><td>Phasenresonanz</td><td>7.06E-01</td><td>1.42E-01</td><td>20.10</td></tr></table><p style=\"text-align:center\">Die verschieden errechneten Abklingkonstanten mit ihren Fehlern.</p>"
      ],
      "text/latex": [
       "\\begin{longtable}[H]{@{}llll@{}}\n",
       "\\toprule\\addlinespace\n",
       "Messart & Abklingkonstante [1/s] & Fehler [1/s] & relativer Fehler [percent]\\\\\\addlinespace \n",
       "\\midrule\\endhead\n",
       "Gedämpfte Schwingung & 8.96E-02 & 1.98E-04 & 0.22\\\\\\addlinespace \n",
       "Amplitudenresonanz & 2.14E-01 & 3.78E-02 & 17.67\\\\\\addlinespace \n",
       "Phasenresonanz & 7.06E-01 & 1.42E-01 & 20.10\\\\\\addlinespace \n",
       "\\\\\\bottomrule\\caption{Die verschieden errechneten Abklingkonstanten mit ihren Fehlern.}\\\\\\label{None}\n",
       " \\end{longtable}"
      ],
      "text/plain": [
       "[['Messart',\n",
       "  'Abklingkonstante [1/s]',\n",
       "  'Fehler [1/s]',\n",
       "  'relativer Fehler [percent]'],\n",
       " ('Gedämpfte Schwingung', '8.96E-02', '1.98E-04', '0.22'),\n",
       " ('Amplitudenresonanz', '2.14E-01', '3.78E-02', '17.67'),\n",
       " ('Phasenresonanz', '7.06E-01', '1.42E-01', '20.10')]"
      ]
     },
     "metadata": {},
     "output_type": "display_data"
    }
   ],
   "source": [
    "labels = ['Gedämpfte Schwingung',\n",
    "          'Amplitudenresonanz',\n",
    "          'Phasenresonanz',\n",
    "]\n",
    "x = [\n",
    "    v2df['gamma'].mean(),\n",
    "    v3v[1],\n",
    "    v4v[0],\n",
    "]\n",
    "\n",
    "xerr = [\n",
    "    v2df['sgamma'].mean(),\n",
    "    v3err[1],\n",
    "    v4err[0],\n",
    "]\n",
    "xstr = list(map(('{0:.2E}').format, x))\n",
    "xerrstr = list(map(('{0:.2E}').format, xerr))\n",
    "xerrrelstr = list(map(('{0:.2f}').format, np.array(xerr) / np.array(x) * 100))\n",
    "data = PrettyTable(\n",
    "    \n",
    "    list(zip(labels, xstr, xerrstr, xerrrelstr)),\n",
    "    caption='Die verschieden errechneten Abklingkonstanten mit ihren Fehlern.',\n",
    "    entries_per_column=len(xstr),\n",
    "    extra_header=['Messart', 'Abklingkonstante [1/s]', 'Fehler [1/s]', 'relativer Fehler [percent]'],\n",
    "    significant_digits=2\n",
    ")\n",
    "data.show()"
   ]
  },
  {
   "cell_type": "code",
   "execution_count": 10,
   "metadata": {
    "ExecuteTime": {
     "end_time": "2017-06-01T10:11:29.963101Z",
     "start_time": "2017-06-01T12:11:26.982811+02:00"
    },
    "collapsed": false,
    "deletable": true,
    "editable": true
   },
   "outputs": [
    {
     "data": {
      "text/html": [
       "<img src=\"images/figures/gamma.png\" alt=\"Die errechneten Abklingkonstanten im Vergleich.\" style=\"display: block;margin-left: auto;margin-right: auto\">\n",
       "<p style=\"text-align:center\">Die errechneten Abklingkonstanten im Vergleich.</p>\n"
      ],
      "text/latex": [
       "\\begin{figure}[H]\n",
       "    \\center\n",
       "    \\includegraphics{images/figures/gamma.pdf}\n",
       "    \\caption{Die errechneten Abklingkonstanten im Vergleich.}\n",
       "    \\label{fig:gamma}\n",
       "\\end{figure}\n",
       "        "
      ],
      "text/plain": [
       "<PrettyFigure.PrettyFigure at 0x103c437b8>"
      ]
     },
     "metadata": {},
     "output_type": "display_data"
    }
   ],
   "source": [
    "y = np.linspace(1, 6, 3)\n",
    "plt.errorbar(x, y, xerr=xerr, fmt='o')\n",
    "plt.yticks(y, labels, rotation='horizontal')\n",
    "plt.ylim((0, 7))\n",
    "figure = PrettyFigure(\n",
    "    plt.gcf(),\n",
    "    label='fig:gamma',\n",
    "    caption='Die errechneten Abklingkonstanten im Vergleich.'\n",
    ")\n",
    "plt.close()\n",
    "figure.show()"
   ]
  },
  {
   "cell_type": "markdown",
   "metadata": {
    "deletable": true,
    "editable": true
   },
   "source": [
    "Alles in allem sehen die Ergebnisse sehr zufriedenstellend aus, wenn man die Zahlen zu $\\omega_0$ betrachtet.\n",
    "Bei der gedämpften Schwingung und der Amplitudenresonanz haben wir einen relatvien Fehler von 0.5% was extrem gut ist. Einzig bei der Phasenresonanz ist der Fehler 1.5% und der Wert ist auch etwas neben den anderen beiden Werten.\n",
    "Wenn man jedoch die Abklingkonstante betrachtet, so ist der Fehler nur bei der Methode mit der gedämpften Schwingung im akzeptablen Bereich.\n",
    "Man könnte hier einen gewichteten Mittelwert errechnen. Jedoch scheinen die Resultate für die verschidenen Methoden so daneben zu liegen, dass wohl die Messungen Fehlerbehaftet sind und noch einmal gemacht werden müssten.\n",
    "Zuerst dachte ich dass ich einen Fehler mit der Zeitumrechnung beim Amplitudenmessgerät gemacht habe, jedoch weichen die Zeitunabhängigen Resultate ebenfalls voneinander ab, wodurch ich auf einen Messfehler tippe.\n",
    "\n",
    "Wie man anhand der Resultate für $\\omega$ und $\\omega_0$ unleicht erkennen kann liegt der Unterschied innerhalb der Fehlertoleranzen, weswegen es mit diesem Gerät gar kein Unterschied gemessen werden kann."
   ]
  },
  {
   "cell_type": "raw",
   "metadata": {
    "deletable": true,
    "editable": true
   },
   "source": [
    "\\newpage"
   ]
  },
  {
   "cell_type": "markdown",
   "metadata": {
    "deletable": true,
    "editable": true
   },
   "source": [
    "# Messwerte"
   ]
  },
  {
   "cell_type": "code",
   "execution_count": 11,
   "metadata": {
    "ExecuteTime": {
     "end_time": "2017-06-01T10:11:29.998751Z",
     "start_time": "2017-06-01T12:11:29.966853+02:00"
    },
    "code_folding": [],
    "collapsed": false,
    "deletable": true,
    "editable": true
   },
   "outputs": [
    {
     "data": {
      "text/html": [
       "<table style=\"margin:auto;\"><tr><td>x [m]</td><td>T [s]</td></tr><tr><td>0.14</td><td>1.3417700000000001</td></tr><tr><td>0.14</td><td>1.34107</td></tr><tr><td>0.16</td><td>1.34218</td></tr><tr><td>0.16</td><td>1.34246</td></tr><tr><td>0.18</td><td>1.34276</td></tr><tr><td>0.18</td><td>1.34325</td></tr><tr><td>0.2</td><td>1.3427200000000001</td></tr><tr><td>0.2</td><td>1.34315</td></tr><tr><td>0.22</td><td>1.3423</td></tr><tr><td>0.22</td><td>1.34273</td></tr></table><p style=\"text-align:center\">Messwerte der Periode bei verschiedenen Anfangsauslenkungen.</p>"
      ],
      "text/latex": [
       "\\begin{longtable}[H]{@{}ll@{}}\n",
       "\\toprule\\addlinespace\n",
       "x [m] & T [s]\\\\\\addlinespace \n",
       "\\midrule\\endhead\n",
       "0.14 & 1.34177\\\\\\addlinespace \n",
       "0.14 & 1.34107\\\\\\addlinespace \n",
       "0.16 & 1.34218\\\\\\addlinespace \n",
       "0.16 & 1.34246\\\\\\addlinespace \n",
       "0.18 & 1.34276\\\\\\addlinespace \n",
       "0.18 & 1.34325\\\\\\addlinespace \n",
       "0.2 & 1.34272\\\\\\addlinespace \n",
       "0.2 & 1.34315\\\\\\addlinespace \n",
       "0.22 & 1.3423\\\\\\addlinespace \n",
       "0.22 & 1.34273\\\\\\addlinespace \n",
       "\\\\\\bottomrule\\caption{Messwerte der Periode bei verschiedenen Anfangsauslenkungen.}\\\\\\label{None}\n",
       " \\end{longtable}"
      ],
      "text/plain": [
       "[['x [m]', 'T [s]'],\n",
       " (0.14000000000000001, 1.3417700000000001),\n",
       " (0.14000000000000001, 1.34107),\n",
       " (0.16, 1.3421799999999999),\n",
       " (0.16, 1.34246),\n",
       " (0.17999999999999999, 1.34276),\n",
       " (0.17999999999999999, 1.3432500000000001),\n",
       " (0.20000000000000001, 1.3427200000000001),\n",
       " (0.20000000000000001, 1.3431500000000001),\n",
       " (0.22, 1.3423),\n",
       " (0.22, 1.34273)]"
      ]
     },
     "metadata": {},
     "output_type": "display_data"
    },
    {
     "data": {
      "text/html": [
       "<table style=\"margin:auto;\"><tr><td>T [s]</td><td>phi [rad]</td><td>A [m]</td></tr><tr><td>1.1764700000000001</td><td>1.8847</td><td>0.007</td></tr><tr><td>1.2121</td><td>1.8758</td><td>0.01</td></tr><tr><td>1.24999</td><td>1.8746</td><td>0.013</td></tr><tr><td>1.29033</td><td>1.8744</td><td>0.019</td></tr><tr><td>1.33331</td><td>1.8326</td><td>0.031</td></tr><tr><td>1.3792799999999998</td><td>1.1137</td><td>0.044</td></tr><tr><td>1.42859</td><td>0.7202</td><td>0.071</td></tr><tr><td>1.48149</td><td>0.661</td><td>0.024</td></tr><tr><td>1.53915</td><td>0.588</td><td>0.016</td></tr><tr><td>1.7316200000000002</td><td>0.4438</td><td>0.011</td></tr><tr><td>1.81815</td><td>0.0736</td><td>0.008</td></tr></table><p style=\"text-align:center\">Messwerte der Phase bei verschiedenen Erregerfrequenzen.</p>"
      ],
      "text/latex": [
       "\\begin{longtable}[H]{@{}lll@{}}\n",
       "\\toprule\\addlinespace\n",
       "T [s] & phi [rad] & A [m]\\\\\\addlinespace \n",
       "\\midrule\\endhead\n",
       "1.17647 & 1.8847 & 0.007\\\\\\addlinespace \n",
       "1.2121 & 1.8758 & 0.01\\\\\\addlinespace \n",
       "1.24999 & 1.8746 & 0.013\\\\\\addlinespace \n",
       "1.29033 & 1.8744 & 0.019\\\\\\addlinespace \n",
       "1.33331 & 1.8326 & 0.031\\\\\\addlinespace \n",
       "1.37928 & 1.1137 & 0.044\\\\\\addlinespace \n",
       "1.42859 & 0.7202 & 0.071\\\\\\addlinespace \n",
       "1.48149 & 0.661 & 0.024\\\\\\addlinespace \n",
       "1.53915 & 0.588 & 0.016\\\\\\addlinespace \n",
       "1.73162 & 0.4438 & 0.011\\\\\\addlinespace \n",
       "1.81815 & 0.0736 & 0.008\\\\\\addlinespace \n",
       "\\\\\\bottomrule\\caption{Messwerte der Phase bei verschiedenen Erregerfrequenzen.}\\\\\\label{None}\n",
       " \\end{longtable}"
      ],
      "text/plain": [
       "[['T [s]', 'phi [rad]', 'A [m]'],\n",
       " (1.1764700000000001, 1.8847, 0.0070000000000000001),\n",
       " (1.2121, 1.8757999999999999, 0.01),\n",
       " (1.2499899999999999, 1.8746, 0.012999999999999999),\n",
       " (1.29033, 1.8744000000000001, 0.019),\n",
       " (1.33331, 1.8326, 0.031),\n",
       " (1.3792799999999998, 1.1136999999999999, 0.043999999999999997),\n",
       " (1.42859, 0.72019999999999995, 0.070999999999999994),\n",
       " (1.48149, 0.66100000000000003, 0.024),\n",
       " (1.53915, 0.58799999999999997, 0.016),\n",
       " (1.7316200000000002, 0.44379999999999997, 0.010999999999999999),\n",
       " (1.8181499999999999, 0.073599999999999999, 0.0080000000000000002)]"
      ]
     },
     "metadata": {},
     "output_type": "display_data"
    }
   ],
   "source": [
    "# Messwerte\n",
    "\n",
    "data = PrettyTable(\n",
    "    list(zip(dfp['x'], dfp['T'])),\n",
    "    caption='Messwerte der Periode bei verschiedenen Anfangsauslenkungen.',\n",
    "    entries_per_column=len(dfp['x'] / 2),\n",
    "    extra_header=['x [m]', 'T [s]']\n",
    ")\n",
    "data.show()\n",
    "\n",
    "data = PrettyTable(\n",
    "    list(zip(dft['T'], dft['phi'], dft['A'])),\n",
    "    caption='Messwerte der Phase bei verschiedenen Erregerfrequenzen.',\n",
    "    entries_per_column=len(dft['T'] / 2),\n",
    "    extra_header=['T [s]', 'phi [rad]','A [m]']\n",
    ")\n",
    "data.show()"
   ]
  }
 ],
 "metadata": {
  "kernelspec": {
   "display_name": "Python 3",
   "language": "python",
   "name": "python3"
  },
  "language_info": {
   "codemirror_mode": {
    "name": "ipython",
    "version": 3
   },
   "file_extension": ".py",
   "mimetype": "text/x-python",
   "name": "python",
   "nbconvert_exporter": "python",
   "pygments_lexer": "ipython3",
   "version": "3.5.2"
  },
  "toc": {
   "nav_menu": {
    "height": "12px",
    "width": "252px"
   },
   "navigate_menu": true,
   "number_sections": true,
   "sideBar": true,
   "threshold": 4,
   "toc_cell": false,
   "toc_section_display": "block",
   "toc_window_display": false
  }
 },
 "nbformat": 4,
 "nbformat_minor": 2
}
