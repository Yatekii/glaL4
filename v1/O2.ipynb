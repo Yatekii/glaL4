{
 "cells": [
  {
   "cell_type": "code",
   "execution_count": 1,
   "metadata": {
    "ExecuteTime": {
     "end_time": "2017-04-23T15:48:00.714952",
     "start_time": "2017-04-23T15:48:00.047972"
    },
    "code_folding": [],
    "collapsed": false,
    "deletable": true,
    "editable": true
   },
   "outputs": [],
   "source": [
    "# Preparations\n",
    "import math\n",
    "import pandas as pd\n",
    "import matplotlib.pyplot as plt\n",
    "import matplotlib.patches as mpatches\n",
    "import numpy as np\n",
    "from scipy import stats\n",
    "from scipy.optimize import curve_fit\n",
    "import seaborn as sns\n",
    "from IPython.display import Latex\n",
    "import warnings\n",
    "from PrettyTable import PrettyTable\n",
    "from functools import partial\n",
    "from PrettyFigure import PrettyFigure\n",
    "warnings.filterwarnings(\"ignore\", module=\"matplotlib\")\n",
    "%matplotlib inline\n",
    "%config InlineBackend.figure_format = 'svg'\n",
    "plt.rcParams['savefig.dpi'] = 75\n",
    "\n",
    "# plt.rcParams['figure.autolayout'] = False\n",
    "# plt.rcParams['figure.figsize'] = 10, 6\n",
    "plt.rcParams['axes.labelsize'] = 18\n",
    "plt.rcParams['axes.titlesize'] = 20\n",
    "plt.rcParams['font.size'] = 16\n",
    "plt.rcParams['lines.linewidth'] = 2.0\n",
    "plt.rcParams['lines.markersize'] = 8\n",
    "plt.rcParams['legend.fontsize'] = 14\n",
    "\n",
    "plt.rcParams['text.usetex'] = True\n",
    "plt.rcParams['text.latex.unicode'] = True\n",
    "plt.rcParams['font.family'] = \"STIX\"\n",
    "plt.rcParams['text.latex.preamble'] = \"\\\\usepackage{subdepth}, \\\\usepackage{type1cm}\"\n",
    "\n",
    "results = {}\n",
    "\n",
    "sns.set(color_codes=True)\n",
    "\n",
    "def average(data):\n",
    "    return 1 / len(data) * sum(data)\n",
    "\n",
    "def error(data, average_of_data):\n",
    "    s = sum([(x - average_of_data)**2 for x in data])\n",
    "    return math.sqrt(s / (len(data) * (len(data) - 1)))\n",
    "\n",
    "def std_deviation(error_of_average, length_of_dataset):\n",
    "    return error_of_average * math.sqrt(length_of_dataset)\n",
    "\n",
    "def average_with_weights(data, weights):\n",
    "    d = data\n",
    "    w = weights\n",
    "    return (d * w**-2).sum() / (w**-2).sum()\n",
    "\n",
    "def error_with_weights(weights):\n",
    "    w = weights\n",
    "    return 1 / math.sqrt((w**-2).sum())\n",
    "\n",
    "def wavg(group, avg_name, weight_name):\n",
    "    d = group[avg_name]\n",
    "    w = group[weight_name]\n",
    "    return (d * w**-2).sum() / (w**-2).sum()\n",
    "\n",
    "def werr(group, weight_name):\n",
    "    return 1 / math.sqrt((group[weight_name]**-2).sum())"
   ]
  },
  {
   "cell_type": "code",
   "execution_count": 2,
   "metadata": {
    "ExecuteTime": {
     "end_time": "2017-04-23T15:48:00.727456",
     "start_time": "2017-04-23T15:48:00.716234"
    },
    "code_folding": [],
    "collapsed": false,
    "deletable": true,
    "editable": true
   },
   "outputs": [],
   "source": [
    "# Constants\n",
    "c0 = 299792458 # [m / s]\n",
    "f1 = 1 # [m]\n",
    "f2 = 4.994 # [m]\n",
    "s1 = 0.110 # [m]\n",
    "s2 = 4.873 # [m]\n",
    "f1_s = 0.003 # [m]\n",
    "f2_s = 0.003 # [m]\n",
    "s2_s = 0.003 # [m]\n",
    "AE = 0.4 # [g / m^3]\n",
    "fmax = 1 # [g / m^3]\n",
    "phi = AE / fmax\n",
    "T = 296.15 # [K]\n",
    "ps = 0.03 # [Pa]\n",
    "p = 9625 # [mbar]\n",
    "\n",
    "nn1 = 2.762\n",
    "nn = nn1 * 1e-4 + 1\n",
    "pn = 1013.25 # [mbar]\n",
    "Tn = 288.15 # [K]\n",
    "beta = 4.292e-8 # [1 / mbar]\n",
    "gamma = 3.43e-2 # [(nm)^2 / mbar]\n",
    "lambda0 = 632.8 #[nm]\n",
    "pw = AE * ps\n",
    "\n",
    "n = (nn - 1) * p * Tn / (pn * T) - (beta - gamma / lambda0**2) * pw + 1\n",
    "ctheoretisch = c0 / n # [m / s]"
   ]
  },
  {
   "cell_type": "markdown",
   "metadata": {
    "deletable": true,
    "editable": true
   },
   "source": [
    "# Arbeitsgrundlagen\n",
    "\n",
    "## Lichtgeschwindigkeit in der Theorie\n",
    "\n",
    "Die Lichtgeschwindigkeit im Vakuum wurde 1983 durch die Internationale Konferenz für Mass und Gewicht (ICPM) auf exakt\n",
    "\n",
    "<center>\n",
    "$c_0 = 299'792'458 \\frac{m}{s}$\n",
    "</center>\n",
    "    \n",
    "festgelegt.\n",
    "\n",
    "Im Medium kann die Lichtgeschwindigkeit über den Brechungsindex $n$ bestimmt werden mit\n",
    "\n",
    "\\begin{equation}\n",
    "c = \\frac{c_0}{n}\n",
    "\\label{eq:c}\n",
    "\\end{equation}\n",
    "\n",
    "Der Brechungsindex wiederum kann durch\n",
    "\n",
    "\\begin{equation}\n",
    "n = (n_n - 1) \\cdot \\frac{pT_n}{p_nT} - \\Big(\\beta-\\frac{\\gamma}{\\lambda_0^2}\\Big)\\cdot p_w -1\n",
    "\\label{eq:n}\n",
    "\\end{equation}\n",
    "\n",
    "bestimmt werden. Hierbei gilt:\n",
    "\n",
    "<center>\n",
    "$n_n = 1.00$  \n",
    "$T_n = 15°C$  \n",
    "$p_n = 1013.25mbar$  \n",
    "$\\beta = 4.292\\cdot10^{-8}mbar^{-1}$  \n",
    "$\\gamma = 3.43\\cdot10^{-2}(nm)^2mbar^{-1}$  \n",
    "$\\lambda_0 \\approx \\lambda = 632.8 nm$  \n",
    "$p_w = AE \\cdot p_s = 0.4 \\cdot 0.03 \\cdot 10^3 mbar$\n",
    "</center>\n",
    "\n",
    "Somit errechnet sich die theoretische Lichtgeschwindigkeit im Zimmer als $c = 299'029'100\\frac{m}{s}$.\n",
    "\n",
    "## Messung der Lichtgeschwindigkeit nach Michelson\n",
    "\n",
    "Beim Versuch von Michelson geht es drum den Lichtstrahl eines Lasers über verschiedene Spiegel, Linsen und Blenden zu schicken. Etwa in der mitte der totalen Distanz trifft der Strahl auf einen rotierenden Laser. Da das Licht auch nur endlich schnell ist, trifft das Licht auf dem Rückweg nicht an der selben Stelle auf dem rotierenden Spiegel auf wie auf dem Hinweg.\n",
    "Somit kann über die zurückgelegte Distanz und die Verschiebung des Aufpralls auf dem Spiegel, sowie der bekannten Drehzahl die Lichtgeschwindigkeit errechnet werden.\n",
    "\n",
    "![Versuchsaufbau nach Michelson. Ennommen aus der Aufgabenstellung](images/michelson.png)\n",
    "\n",
    "Der Versuchsaufbau kann äquialent wie folgt dargestellt werden\n",
    "\n",
    "![Äuquvaente Linsenkonfiguration nach Michelson. Ennommen aus der Aufgabenstellung](images/aequiv.png)\n",
    "\n",
    "Der rotierende Spiegel wird zwischen dem ersten und dem zweiten Reflektieren des Strahls um den Winkel $\\delta$ gedreht\n",
    "\n",
    "\\begin{equation}\n",
    "\\delta = \\omega\\Delta t = \\omega \\frac{2(s_2+f_2)}{c}\n",
    "\\label{eq:delta}\n",
    "\\end{equation}\n",
    "\n",
    "Aufgrund des Reflexionsgesetzes welches besagt dass der Einfallswinkel $\\alpha$ dem Ausfallswinkel $\\alpha'$ entspricht\n",
    "\n",
    "\\begin{equation}\n",
    "\\alpha = \\alpha'\n",
    "\\label{eq:refl}\n",
    "\\end{equation}\n",
    "\n",
    "wird klar, dass der Drehspiegel eine Richtungsänderung von $2\\delta$ zur Folge hat.\n",
    "\n",
    "Des Weiteren gilt\n",
    "\n",
    "\\begin{equation}\n",
    "2\\delta = sin\\Big(\\frac{x}{f1}\\Big) \\approx \\frac{x}{f1}\n",
    "\\label{eq:kleinwinkel}\n",
    "\\end{equation}\n",
    "\n",
    "da die Kleinwinkeländerung sicher zutrifft.\n",
    "\n",
    "Leicht lässt sich somit die Lichtgeschwindigkeit als\n",
    "\n",
    "\\begin{equation}\n",
    "c = 4\\omega\\frac{(s_2+f_2)f_1}{x}\n",
    "\\label{eq:c_exp}\n",
    "\\end{equation}\n",
    "\n",
    "bestimmen.\n",
    "\n",
    "Da die Messungen noch offset-behaftet sind, wird ein Linearer Fit mit der Formel\n",
    "\n",
    "\\begin{equation}\n",
    "x = \\frac{1}{c}8\\pi f\\cdot f_1(s_2+f_2) + x_0\n",
    "\\label{eq:x_fit}\n",
    "\\end{equation}\n",
    "\n",
    "Die Steigung der gefitteten Gerade entspricht also\n",
    "\n",
    "\\begin{equation}\n",
    "m = \\frac{1}{c}8\\pi\\cdot f_1(s_2+f_2)\n",
    "\\label{eq:m_fit}\n",
    "\\end{equation}\n",
    "\n",
    "womit die Lichtgeschwindigkeit dann mit\n",
    "\n",
    "\\begin{equation}\n",
    "c = \\frac{1}{m}8\\pi\\cdot f_1(s_2+f_2)\n",
    "\\label{eq:c_fit}\n",
    "\\end{equation}\n",
    "\n",
    "berechnet werden kann."
   ]
  },
  {
   "cell_type": "raw",
   "metadata": {
    "deletable": true,
    "editable": true
   },
   "source": [
    "\\newpage"
   ]
  },
  {
   "cell_type": "markdown",
   "metadata": {
    "deletable": true,
    "editable": true
   },
   "source": [
    "# Durchführung\n",
    "\n",
    "Um die Messung durchführen zu können, wurde die bereits augebaute Apparatur so eingestellt dass der zurückgeworfene Lichtstrahl im Okular sichtbar war.\n",
    "Dazu wurde erst der Drehspiegel (DS) so ausgerichtet dass er parallel zum Hohlspiegel (HS) ist.\n",
    "Danach wurden der Endspiegel (ES) und der Umlenkspiegel (US) so justiert, dass zuerst der Strahl bei ES ankommt und dann so, dass der Strahl auch bis zu US zurückgeworfen wird.\n",
    "Zuletzt wurde US noch so justiert dass der Strahl auch auf das Okular trifft.\n",
    "Brennweiten waren glücklicherweise schon eingestellt und mussten so nicht mehr justiert werden.\n",
    "\n",
    "Danach wurde die gesamte Apparatur vermessen um später mit den Werten rechnen zu könne. Die gemessenen Werte sind hier aufgeführt.\n",
    "\n",
    "<center>\n",
    "f1 = 1 ± 0.003 m  \n",
    "f2 = 4.994 ± 0.003 m  \n",
    "s1 = 0.110 ± 0.003 m  \n",
    "s2 = 4.873 ± 0.003 m  \n",
    "AE = 0.4 $\\frac{g}{m^3}$  \n",
    "T = 296.15 K  \n",
    "ps = 0.03 Pa  \n",
    "p = 9625 mbar\n",
    "</center>"
   ]
  },
  {
   "cell_type": "raw",
   "metadata": {
    "ExecuteTime": {
     "end_time": "2017-04-23T15:30:19.861623",
     "start_time": "2017-04-23T15:30:19.858802"
    },
    "deletable": true,
    "editable": true
   },
   "source": [
    "\\newpage"
   ]
  },
  {
   "cell_type": "markdown",
   "metadata": {
    "deletable": true,
    "editable": true
   },
   "source": [
    "# Auswertung"
   ]
  },
  {
   "cell_type": "code",
   "execution_count": 3,
   "metadata": {
    "ExecuteTime": {
     "end_time": "2017-04-23T15:48:03.116025",
     "start_time": "2017-04-23T15:48:00.729072"
    },
    "code_folding": [],
    "collapsed": false,
    "deletable": true,
    "editable": true
   },
   "outputs": [
    {
     "data": {
      "text/html": [
       "<img src=\"images/figures/lichtgeschwindigkeiten_distanz.png\" alt=\"Gemessene Distanz x im Okular. Dazu einen linearen Fit um die Mittlere Distanz zu bestimmen.\" style=\"display: block;margin-left: auto;margin-right: auto\">\n",
       "<p style=\"text-align:center\">Gemessene Distanz x im Okular. Dazu einen linearen Fit um die Mittlere Distanz zu bestimmen.</p>\n"
      ],
      "text/latex": [
       "\\begin{figure}[H]\n",
       "    \\center\n",
       "    \\includegraphics{images/figures/lichtgeschwindigkeiten_distanz.pdf}\n",
       "    \\caption{Gemessene Distanz x im Okular. Dazu einen linearen Fit um die Mittlere Distanz zu bestimmen.}\n",
       "    \\label{fig:lichtgeschwindigkeiten_distanz}\n",
       "\\end{figure}\n",
       "        "
      ],
      "text/plain": [
       "<PrettyFigure.PrettyFigure at 0x108ff9908>"
      ]
     },
     "metadata": {},
     "output_type": "display_data"
    }
   ],
   "source": [
    "#x = (1 / c) * 2 * omega * (s2 + fs) * (2 * f1) + x0\n",
    "\n",
    "# Read Data\n",
    "dfb = pd.read_csv('data/measurements.csv')\n",
    "ax = None\n",
    "dfa = dfb.loc[dfb['observer'] == 'Almar']\n",
    "dfa.is_copy = False\n",
    "dfa.loc[:,'x'] = dfa.loc[:,'x'] * 10e-5\n",
    "dfn = dfb.loc[dfb['observer'] == 'Noah']\n",
    "dfn.is_copy = False\n",
    "dfn.loc[:,'x'] = dfn.loc[:,'x'] * 10e-5\n",
    "\n",
    "slopea, intercepta, r, p, sema = stats.linregress(dfa['f'], dfa['x'])\n",
    "slopen, interceptn, r, p, semn = stats.linregress(dfn['f'], dfn['x'])\n",
    "\n",
    "ax = dfa.plot(kind='scatter', x='f', y='x', label='gemessene Distanz [Almar]')\n",
    "plt.plot(dfa['f'], dfa['f'] * slopea + intercepta, label='linearer Fit der Distanz [Almar]', axes=ax)\n",
    "plt.plot(dfn['f'], dfn['f'] * slopen + interceptn, label='linearer Fit der Distanz [Noah]', axes=ax, color='red')\n",
    "plt.scatter(dfn['f'], dfn['x'], label='gemessene Distanz [Noah]', axes=ax, color='red')\n",
    "plt.xlabel('f [Hz]')\n",
    "plt.ylabel('x [m]')\n",
    "plt.ylim([0.005, 0.007])\n",
    "plt.legend(bbox_to_anchor=(0.02, 0.98), loc=2, borderaxespad=0.2)\n",
    "\n",
    "plt.close()\n",
    "figure = PrettyFigure(\n",
    "    ax.figure,\n",
    "    label='fig:lichtgeschwindigkeiten_distanz',\n",
    "    caption='Gemessene Distanz x im Okular. Dazu einen linearen Fit um die Mittlere Distanz zu bestimmen.'\n",
    ")\n",
    "\n",
    "figure.show()\n",
    "\n",
    "slope = np.array((slopea, slopen))\n",
    "slope_s = np.array((sema, semn))\n",
    "\n",
    "#x = (1 / c) * 2 * omega * (s2 + fs) * (2 * f1) + x0\n",
    "c = (1 / (slope) * 2 * 2 * math.pi * (s2 + f2) * (2 * f1))"
   ]
  },
  {
   "cell_type": "markdown",
   "metadata": {
    "deletable": true,
    "editable": true,
    "variables": {
     " '{0:.2E}'.format(c[0]) ": "3.03E+08",
     " '{0:.2E}'.format(c[1]) ": "3.06E+08",
     " '{0:.2E}'.format(np.mean(c)) ": "3.05E+08",
     " '{0:.2E}'.format(np.mean(slope)) ": "8.14E-07",
     " '{0:.2E}'.format(np.mean(slope_s)) ": "4.12E-09"
    }
   },
   "source": [
    "Es ergibt sich eine Mittlere Steigung von m = {{ '{0:.2E}'.format(np.mean(slope)) }} ± {{ '{0:.2E}'.format(np.mean(slope_s)) }} $\\frac{m}{Hz}$. Löst man dies nach c auf, so erhält man c = {{ '{0:.2E}'.format(np.mean(c)) }} $\\frac{m}{s}$\n",
    "Wobei wir für Almars Messung eine Geschwindigkeit von $c_A$ = {{ '{0:.2E}'.format(c[0]) }} $\\frac{m}{s}$ und für für Noahs Messung eine Geschwindigkeit von $c_N$ = {{ '{0:.2E}'.format(c[1]) }} $\\frac{m}{s}$ erhalten."
   ]
  },
  {
   "cell_type": "raw",
   "metadata": {
    "deletable": true,
    "editable": true
   },
   "source": [
    "\\newpage"
   ]
  },
  {
   "cell_type": "markdown",
   "metadata": {
    "deletable": true,
    "editable": true
   },
   "source": [
    "# Fehlerrechnung\n",
    "\n",
    "Mithilfe des Gaussschen Fehlerfortpflanzungsgesetzes können wir den Fehler für c berechnen.\n",
    "\n",
    "Dafür finden wir erst alle Partialableitungen ersten Grades des Termes für c in der Gleichung \\ref{eq:c_fit}.\n",
    "Diese sind\n",
    "\n",
    "<center>\n",
    "    $\\frac{\\partial c}{\\partial m}$ = $-\\frac{1}{m^2}8\\pi f_1 (s_2 + f_2)$  \n",
    "    $\\frac{\\partial c}{\\partial f1}$ = $\\frac{1}{m}8\\pi (s_2 + f_2)$  \n",
    "    $\\frac{\\partial c}{\\partial f_2}$ = $\\frac{1}{m}8\\pi f_1 (s_2 + 1)$  \n",
    "    $\\frac{\\partial c}{\\partial s_2}$ = $\\frac{1}{m}8\\pi f_1 (1 + f_2)$\n",
    "</center>\n",
    "\n",
    "Somit errechnet sich der Fehler dann als\n",
    "\n",
    "\\begin{equation}\n",
    "s_{\\overline{c}} = \\sqrt{ \\Big(  \\frac{\\partial\\overline{c}}{\\partial\\overline{m}} \\Big|_{\\overline{c}} \\cdot s_{\\overline{m}}  \\Big)^2 + \\Big(  \\frac{\\partial\\overline{c}}{\\partial\\overline{f_1}} \\Big|_{\\overline{c}} \\cdot s_{\\overline{f_1}}  \\Big)^2  + \\Big(  \\frac{\\partial\\overline{c}}{\\partial\\overline{f_2}} \\Big|_{\\overline{c}} \\cdot s_{\\overline{f_2}}  \\Big)^2  + \\Big(  \\frac{\\partial\\overline{c}}{\\partial\\overline{s_2}} \\Big|_{\\overline{c}} \\cdot s_{\\overline{s_2}}  \\Big)^2  }\n",
    "\\label{eq:error_c}\n",
    "\\end{equation}"
   ]
  },
  {
   "cell_type": "code",
   "execution_count": 4,
   "metadata": {
    "ExecuteTime": {
     "end_time": "2017-04-23T15:48:03.156793",
     "start_time": "2017-04-23T15:48:03.150208"
    },
    "collapsed": false,
    "deletable": true,
    "editable": true
   },
   "outputs": [],
   "source": [
    "d0 = - 1 / slope**2 * 8 * math.pi * f1 * (s2 + f2) * slope_s\n",
    "d1 = 1 / slope * 8 * math.pi * (s2 + f2) * f1_s\n",
    "d2 = 1 / slope * 8 * math.pi * f1 * (s2 + 1) * f2_s\n",
    "d3 = 1 / slope * 8 * math.pi * f1 * (1 + f2) * s2_s\n",
    "sc = np.sqrt(d0**2 + d1**2 + d2**2 + d3**2)\n",
    "\n",
    "c_wmean = sum(1 / sc**2 * c) / sum(1 / sc**2)\n",
    "\n",
    "s_wmean = 1 / np.sqrt(sum(1 / sc**2))"
   ]
  },
  {
   "cell_type": "markdown",
   "metadata": {
    "deletable": true,
    "editable": true,
    "variables": {
     " '{0:.2E}'.format(c_wmean) ": "3.05E+08",
     " '{0:.2E}'.format(s_wmean) ": "1.34E+06",
     "'{0:.2E}'.format(np.mean(sc[0]))": "2.30E+06",
     "'{0:.2E}'.format(np.mean(sc[1]))": "1.64E+06"
    }
   },
   "source": [
    "Somit ergeben sich die systematischen Fehler\n",
    "\n",
    "<center>\n",
    "    $s_{\\overline{A}}$ = {{'{0:.2E}'.format(np.mean(sc[0]))}} $\\frac{m}{s}$  \n",
    "    $s_{\\overline{N}}$ = {{'{0:.2E}'.format(np.mean(sc[1]))}} $\\frac{m}{s}$\n",
    "</center>\n",
    "\n",
    "Nun kann Mithilfe des gewichteten quadratischen Mittels\n",
    "\n",
    "\\begin{equation}\n",
    "\\overline{x} = \\frac{\\sum^N_{i=1}g_{\\overline{x}_i}\\overline{x}_i}{\\sum^N_{i=1}g_{\\overline{x}_i}}\n",
    "\\label{eq:c_mean}\n",
    "\\end{equation}\n",
    "\n",
    "Die mittlere Lichtgeschwindigkeit unter Berücksichtigung des Fehlers ermittlt werden. Diese ergibt sich als\n",
    "\n",
    "<center>\n",
    "$\\overline{c}$ = {{ '{0:.2E}'.format(c_wmean) }} $\\frac{m}{s}$\n",
    "</center>\n",
    "\n",
    "Die mittlere Unsicherheit kann durch\n",
    "\n",
    "\\begin{equation}\n",
    "s_{\\overline{x}} = \\frac{1}{\\sqrt{\\sum^N_{i=1}g_{\\overline{x}_i}}}\n",
    "\\label{eq:s_mean}\n",
    "\\end{equation}\n",
    "\n",
    "errechnet werden.\n",
    "\n",
    "Somit ist $s_{\\overline{c}}$ als\n",
    "\n",
    "<center>\n",
    "$s_{\\overline{c}}$ = {{ '{0:.2E}'.format(s_wmean) }} $\\frac{m}{s}$ \n",
    "</center>\n",
    "\n",
    "bestimmt.\n",
    "\n",
    "Die Lichtgeschwindigkeit ergibt sich aus der Messung unter Berücksichtigung des Fehlers als\n",
    "\n",
    "<center>\n",
    "c = $\\overline{c}$ + $s_{\\overline{c}}$ = {{ '{0:.2E}'.format(c_wmean) }} ± {{ '{0:.2E}'.format(s_wmean) }} $\\frac{m}{s}$ \n",
    "</center>"
   ]
  },
  {
   "cell_type": "markdown",
   "metadata": {
    "deletable": true,
    "editable": true
   },
   "source": [
    "# Resultate\n",
    "\n",
    "\n",
    "Im folgenden sind die Resultate aus den Rechungen noch einmal tabellarisch gegenübergestellt."
   ]
  },
  {
   "cell_type": "code",
   "execution_count": 5,
   "metadata": {
    "ExecuteTime": {
     "end_time": "2017-04-23T15:48:03.203513",
     "start_time": "2017-04-23T15:48:03.193923"
    },
    "code_folding": [],
    "collapsed": false,
    "deletable": true,
    "editable": true
   },
   "outputs": [
    {
     "data": {
      "text/html": [
       "<table style=\"margin:auto;\"><tr><td>Herkunft</td><td>c [mps]</td><td>s\\_c [mps]</td><td>s\\_c relativ [\\%]</td></tr><tr><td>Lichtgeschwindigkeit nach ICPM</td><td>3.00E+08</td><td>0.00E+00</td><td>0.00</td></tr><tr><td>Lichtgeschwindigkeit nach Gleichung 2</td><td>2.99E+08</td><td>0.00E+00</td><td>0.00</td></tr><tr><td>Lichtgeschwindigkeit nach Messung Almar</td><td>3.03E+08</td><td>2.30E+06</td><td>0.76</td></tr><tr><td>Lichtgeschwindigkeit nach Messung Noah</td><td>3.06E+08</td><td>1.64E+06</td><td>0.54</td></tr><tr><td>Lichtgeschwindigkeit nach Messung Almar\n",
       "und Noah gewichtet gemittelt</td><td>3.05E+08</td><td>1.34E+06</td><td>0.44</td></tr></table><p style=\"text-align:center\">Die verschieden errechneten Lichtgeschwindigkeiten mit ihren Fehlern.</p>"
      ],
      "text/latex": [
       "\\begin{longtable}[H]{@{}llll@{}}\n",
       "\\toprule\\addlinespace\n",
       "Herkunft & c [mps] & s\\_c [mps] & s\\_c relativ [\\\\%]\\\\\\addlinespace \n",
       "\\midrule\\endhead\n",
       "Lichtgeschwindigkeit nach ICPM & 3.00E+08 & 0.00E+00 & 0.00\\\\\\addlinespace \n",
       "Lichtgeschwindigkeit nach Gleichung 2 & 2.99E+08 & 0.00E+00 & 0.00\\\\\\addlinespace \n",
       "Lichtgeschwindigkeit nach Messung Almar & 3.03E+08 & 2.30E+06 & 0.76\\\\\\addlinespace \n",
       "Lichtgeschwindigkeit nach Messung Noah & 3.06E+08 & 1.64E+06 & 0.54\\\\\\addlinespace \n",
       "Lichtgeschwindigkeit nach Messung Almar\n",
       "und Noah gewichtet gemittelt & 3.05E+08 & 1.34E+06 & 0.44\\\\\\addlinespace \n",
       "\\\\\\bottomrule\\caption{Die verschieden errechneten Lichtgeschwindigkeiten mit ihren Fehlern.}\\\\\\label{None}\n",
       " \\end{longtable}"
      ],
      "text/plain": [
       "[['Herkunft', 'c [mps]', 's\\\\_c [mps]', 's\\\\_c relativ [\\\\%]'],\n",
       " ('Lichtgeschwindigkeit nach ICPM', '3.00E+08', '0.00E+00', '0.00'),\n",
       " ('Lichtgeschwindigkeit nach Gleichung 2', '2.99E+08', '0.00E+00', '0.00'),\n",
       " ('Lichtgeschwindigkeit nach Messung Almar', '3.03E+08', '2.30E+06', '0.76'),\n",
       " ('Lichtgeschwindigkeit nach Messung Noah', '3.06E+08', '1.64E+06', '0.54'),\n",
       " ('Lichtgeschwindigkeit nach Messung Almar\\nund Noah gewichtet gemittelt',\n",
       "  '3.05E+08',\n",
       "  '1.34E+06',\n",
       "  '0.44')]"
      ]
     },
     "metadata": {},
     "output_type": "display_data"
    }
   ],
   "source": [
    "# Errechnete Werte tabellarisch\n",
    "\n",
    "labels = ['Lichtgeschwindigkeit nach ICPM',\n",
    "          'Lichtgeschwindigkeit nach Gleichung 2',\n",
    "          'Lichtgeschwindigkeit nach Messung Almar',\n",
    "          'Lichtgeschwindigkeit nach Messung Noah',\n",
    "          'Lichtgeschwindigkeit nach Messung Almar\\nund Noah gewichtet gemittelt'\n",
    "]\n",
    "x = [\n",
    "    c0,\n",
    "    ctheoretisch,\n",
    "    c[0],\n",
    "    c[1],\n",
    "    c_wmean\n",
    "]\n",
    "\n",
    "xerr = [\n",
    "    0,\n",
    "    0,\n",
    "    sc[0],\n",
    "    sc[1],\n",
    "    s_wmean\n",
    "]\n",
    "xstr = list(map(('{0:.2E}').format, x))\n",
    "xerrstr = list(map(('{0:.2E}').format, xerr))\n",
    "xerrrelstr = list(map(('{0:.2f}').format, np.array(xerr) / np.array(x) * 100))\n",
    "data = PrettyTable(\n",
    "    \n",
    "    list(zip(labels, xstr, xerrstr, xerrrelstr)),\n",
    "    caption='Die verschieden errechneten Lichtgeschwindigkeiten mit ihren Fehlern.',\n",
    "    entries_per_column=len(xstr),\n",
    "    extra_header=['Herkunft', 'c [mps]', 's\\_c [mps]', 's\\_c relativ [%]'],\n",
    "    significant_digits=2\n",
    ")\n",
    "data.show()"
   ]
  },
  {
   "cell_type": "code",
   "execution_count": 6,
   "metadata": {
    "ExecuteTime": {
     "end_time": "2017-04-23T15:48:05.237265",
     "start_time": "2017-04-23T15:48:03.204894"
    },
    "code_folding": [],
    "collapsed": false,
    "deletable": true,
    "editable": true
   },
   "outputs": [
    {
     "data": {
      "text/html": [
       "<img src=\"images/figures/lichtgeschwindigkeiten.png\" alt=\"Die gemessenen Lichtgeschwindigkeiten und Literaturwerte im Vergleich.\" style=\"display: block;margin-left: auto;margin-right: auto\">\n",
       "<p style=\"text-align:center\">Die gemessenen Lichtgeschwindigkeiten und Literaturwerte im Vergleich.</p>\n"
      ],
      "text/latex": [
       "\\begin{figure}[H]\n",
       "    \\center\n",
       "    \\includegraphics{images/figures/lichtgeschwindigkeiten.pdf}\n",
       "    \\caption{Die gemessenen Lichtgeschwindigkeiten und Literaturwerte im Vergleich.}\n",
       "    \\label{fig:lichtgeschwindigkeiten}\n",
       "\\end{figure}\n",
       "        "
      ],
      "text/plain": [
       "<PrettyFigure.PrettyFigure at 0x10c520ef0>"
      ]
     },
     "metadata": {},
     "output_type": "display_data"
    }
   ],
   "source": [
    "# Errechnete Werte grafisch\n",
    "\n",
    "y = np.linspace(1, 9, 5)\n",
    "plt.errorbar(x, y, xerr=xerr, fmt='o')\n",
    "plt.yticks(y, labels, rotation='horizontal')\n",
    "plt.xlim((295e6, 308e6))\n",
    "plt.ylim((0, 10))\n",
    "figure = PrettyFigure(\n",
    "    plt.gcf(),\n",
    "    label='fig:lichtgeschwindigkeiten',\n",
    "    caption='Die gemessenen Lichtgeschwindigkeiten und Literaturwerte im Vergleich.'\n",
    ")\n",
    "plt.close()\n",
    "figure.show()"
   ]
  },
  {
   "cell_type": "markdown",
   "metadata": {
    "deletable": true,
    "editable": true
   },
   "source": [
    "Anhand des statistischen Fehlers der beiden Messreihen kann man erkennen dass Noah ein wenig genauer gemessen hat.\n",
    "Der relative Fehler ist kleiner als 1%, was auf eine sehr genaue Messung hindeutet.\n",
    "Trotzdem liegen alle Berechneten Werte signifikant über den Literaturwerten.\n",
    "Dies kann natürlich damit zusammenhängen dass Linsen und Blenden nicht justiert wurden und die ganze Messapparatur aus Zeitgründen nicht kalibriert wurde.\n",
    "Aus dieser Sicht sind die Messergbnisse eigentlich sehr zufriedenstellend!"
   ]
  },
  {
   "cell_type": "raw",
   "metadata": {
    "deletable": true,
    "editable": true
   },
   "source": [
    "\\newpage"
   ]
  },
  {
   "cell_type": "markdown",
   "metadata": {
    "deletable": true,
    "editable": true
   },
   "source": [
    "# Anhang\n",
    "\n",
    "## Messwerte"
   ]
  },
  {
   "cell_type": "code",
   "execution_count": 7,
   "metadata": {
    "ExecuteTime": {
     "end_time": "2017-04-23T15:48:05.250082",
     "start_time": "2017-04-23T15:48:05.238703"
    },
    "code_folding": [],
    "collapsed": false,
    "deletable": true,
    "editable": true
   },
   "outputs": [
    {
     "data": {
      "text/html": [
       "<table style=\"margin:auto;\"><tr><td>x [m]</td><td>f [Hz]</td></tr><tr><td>0.006</td><td>100</td></tr><tr><td>0.0061</td><td>200</td></tr><tr><td>0.00615</td><td>300</td></tr><tr><td>0.00625</td><td>400</td></tr><tr><td>0.006350000000000001</td><td>508</td></tr><tr><td>0.00645</td><td>601</td></tr><tr><td>0.006500000000000001</td><td>705</td></tr><tr><td>0.00657</td><td>804</td></tr><tr><td>0.0066500000000000005</td><td>904</td></tr><tr><td>0.00672</td><td>1002</td></tr><tr><td>0.00585</td><td>-104</td></tr><tr><td>0.00575</td><td>-200</td></tr><tr><td>0.0056500000000000005</td><td>-305</td></tr><tr><td>0.0056</td><td>-403</td></tr><tr><td>0.0055000000000000005</td><td>-503</td></tr><tr><td>0.00542</td><td>-598</td></tr><tr><td>0.005350000000000001</td><td>-701</td></tr><tr><td>0.00527</td><td>-800</td></tr><tr><td>0.005200000000000001</td><td>-897</td></tr><tr><td>0.0051</td><td>-999</td></tr></table><p style=\"text-align:center\">Messwerte für x gemessen von Almar. Negative Werte für f kennzeichnen dass der Motor in die andere Richtung drehte.</p>"
      ],
      "text/latex": [
       "\\begin{longtable}[H]{@{}ll@{}}\n",
       "\\toprule\\addlinespace\n",
       "x [m] & f [Hz]\\\\\\addlinespace \n",
       "\\midrule\\endhead\n",
       "0.006 & 100\\\\\\addlinespace \n",
       "0.0061 & 200\\\\\\addlinespace \n",
       "0.00615 & 300\\\\\\addlinespace \n",
       "0.00625 & 400\\\\\\addlinespace \n",
       "0.00635 & 508\\\\\\addlinespace \n",
       "0.00645 & 601\\\\\\addlinespace \n",
       "0.0065 & 705\\\\\\addlinespace \n",
       "0.00657 & 804\\\\\\addlinespace \n",
       "0.00665 & 904\\\\\\addlinespace \n",
       "0.00672 & 1002\\\\\\addlinespace \n",
       "0.00585 & -104\\\\\\addlinespace \n",
       "0.00575 & -200\\\\\\addlinespace \n",
       "0.00565 & -305\\\\\\addlinespace \n",
       "0.0056 & -403\\\\\\addlinespace \n",
       "0.0055 & -503\\\\\\addlinespace \n",
       "0.00542 & -598\\\\\\addlinespace \n",
       "0.00535 & -701\\\\\\addlinespace \n",
       "0.00527 & -800\\\\\\addlinespace \n",
       "0.0052 & -897\\\\\\addlinespace \n",
       "0.0051 & -999\\\\\\addlinespace \n",
       "\\\\\\bottomrule\\caption{Messwerte für x gemessen von Almar. Negative Werte für f kennzeichnen dass der Motor in die andere Richtung drehte.}\\\\\\label{None}\n",
       " \\end{longtable}"
      ],
      "text/plain": [
       "[['x [m]', 'f [Hz]'],\n",
       " (0.0060000000000000001, 100),\n",
       " (0.0061000000000000004, 200),\n",
       " (0.0061500000000000001, 300),\n",
       " (0.0062500000000000003, 400),\n",
       " (0.0063500000000000006, 508),\n",
       " (0.00645, 601),\n",
       " (0.0065000000000000006, 705),\n",
       " (0.0065700000000000003, 804),\n",
       " (0.0066500000000000005, 904),\n",
       " (0.0067200000000000003, 1002),\n",
       " (0.0058500000000000002, -104),\n",
       " (0.0057499999999999999, -200),\n",
       " (0.0056500000000000005, -305),\n",
       " (0.0055999999999999999, -403),\n",
       " (0.0055000000000000005, -503),\n",
       " (0.0054200000000000003, -598),\n",
       " (0.0053500000000000006, -701),\n",
       " (0.0052700000000000004, -800),\n",
       " (0.0052000000000000006, -897),\n",
       " (0.0051000000000000004, -999)]"
      ]
     },
     "metadata": {},
     "output_type": "display_data"
    },
    {
     "data": {
      "text/html": [
       "<table style=\"margin:auto;\"><tr><td>x [m]</td><td>f [Hz]</td></tr><tr><td>0.00585</td><td>-102</td></tr><tr><td>0.005770000000000001</td><td>-203</td></tr><tr><td>0.00568</td><td>-298</td></tr><tr><td>0.0056</td><td>-403</td></tr><tr><td>0.005520000000000001</td><td>-503</td></tr><tr><td>0.00543</td><td>-599</td></tr><tr><td>0.005350000000000001</td><td>-700</td></tr><tr><td>0.005260000000000001</td><td>-801</td></tr><tr><td>0.00519</td><td>-902</td></tr><tr><td>0.00512</td><td>-1001</td></tr><tr><td>0.006</td><td>100</td></tr><tr><td>0.00608</td><td>199</td></tr><tr><td>0.0061600000000000005</td><td>304</td></tr><tr><td>0.00625</td><td>397</td></tr><tr><td>0.00633</td><td>503</td></tr><tr><td>0.0064</td><td>606</td></tr><tr><td>0.006500000000000001</td><td>702</td></tr><tr><td>0.00658</td><td>800</td></tr><tr><td>0.006640000000000001</td><td>897</td></tr><tr><td>0.00673</td><td>1000</td></tr></table><p style=\"text-align:center\">Messwerte für x gemessen von Noah. Negative Werte für f kennzeichnen dass der Motor in die andere Richtung drehte.</p>"
      ],
      "text/latex": [
       "\\begin{longtable}[H]{@{}ll@{}}\n",
       "\\toprule\\addlinespace\n",
       "x [m] & f [Hz]\\\\\\addlinespace \n",
       "\\midrule\\endhead\n",
       "0.00585 & -102\\\\\\addlinespace \n",
       "0.00577 & -203\\\\\\addlinespace \n",
       "0.00568 & -298\\\\\\addlinespace \n",
       "0.0056 & -403\\\\\\addlinespace \n",
       "0.00552 & -503\\\\\\addlinespace \n",
       "0.00543 & -599\\\\\\addlinespace \n",
       "0.00535 & -700\\\\\\addlinespace \n",
       "0.00526 & -801\\\\\\addlinespace \n",
       "0.00519 & -902\\\\\\addlinespace \n",
       "0.00512 & -1001\\\\\\addlinespace \n",
       "0.006 & 100\\\\\\addlinespace \n",
       "0.00608 & 199\\\\\\addlinespace \n",
       "0.00616 & 304\\\\\\addlinespace \n",
       "0.00625 & 397\\\\\\addlinespace \n",
       "0.00633 & 503\\\\\\addlinespace \n",
       "0.0064 & 606\\\\\\addlinespace \n",
       "0.0065 & 702\\\\\\addlinespace \n",
       "0.00658 & 800\\\\\\addlinespace \n",
       "0.00664 & 897\\\\\\addlinespace \n",
       "0.00673 & 1000\\\\\\addlinespace \n",
       "\\\\\\bottomrule\\caption{Messwerte für x gemessen von Noah. Negative Werte für f kennzeichnen dass der Motor in die andere Richtung drehte.}\\\\\\label{None}\n",
       " \\end{longtable}"
      ],
      "text/plain": [
       "[['x [m]', 'f [Hz]'],\n",
       " (0.0058500000000000002, -102),\n",
       " (0.0057700000000000008, -203),\n",
       " (0.0056800000000000002, -298),\n",
       " (0.0055999999999999999, -403),\n",
       " (0.0055200000000000006, -503),\n",
       " (0.0054299999999999999, -599),\n",
       " (0.0053500000000000006, -700),\n",
       " (0.0052600000000000008, -801),\n",
       " (0.0051900000000000002, -902),\n",
       " (0.0051200000000000004, -1001),\n",
       " (0.0060000000000000001, 100),\n",
       " (0.0060800000000000003, 199),\n",
       " (0.0061600000000000005, 304),\n",
       " (0.0062500000000000003, 397),\n",
       " (0.0063299999999999997, 503),\n",
       " (0.0064000000000000003, 606),\n",
       " (0.0065000000000000006, 702),\n",
       " (0.0065799999999999999, 800),\n",
       " (0.0066400000000000009, 897),\n",
       " (0.0067299999999999999, 1000)]"
      ]
     },
     "metadata": {},
     "output_type": "display_data"
    }
   ],
   "source": [
    "# Messwerte\n",
    "\n",
    "data = PrettyTable(\n",
    "    list(zip(dfa['x'], dfa['f'])),\n",
    "    caption='Messwerte für x gemessen von Almar. Negative Werte für f kennzeichnen dass der Motor in die andere Richtung drehte.',\n",
    "    entries_per_column=len(dfa['x'] / 2),\n",
    "    extra_header=['x [m]', 'f [Hz]']\n",
    ")\n",
    "data.show()\n",
    "\n",
    "data = PrettyTable(\n",
    "    list(zip(dfn['x'], dfn['f'])),\n",
    "    caption='Messwerte für x gemessen von Noah. Negative Werte für f kennzeichnen dass der Motor in die andere Richtung drehte.',\n",
    "    entries_per_column=len(dfn['x'] / 2),\n",
    "    extra_header=['x [m]', 'f [Hz]']\n",
    ")\n",
    "data.show()"
   ]
  }
 ],
 "metadata": {
  "kernelspec": {
   "display_name": "Python 3",
   "language": "python",
   "name": "python3"
  },
  "language_info": {
   "codemirror_mode": {
    "name": "ipython",
    "version": 3
   },
   "file_extension": ".py",
   "mimetype": "text/x-python",
   "name": "python",
   "nbconvert_exporter": "python",
   "pygments_lexer": "ipython3",
   "version": "3.5.2"
  },
  "toc": {
   "nav_menu": {
    "height": "12px",
    "width": "252px"
   },
   "navigate_menu": true,
   "number_sections": true,
   "sideBar": true,
   "threshold": 4,
   "toc_cell": false,
   "toc_section_display": "block",
   "toc_window_display": false
  }
 },
 "nbformat": 4,
 "nbformat_minor": 2
}
