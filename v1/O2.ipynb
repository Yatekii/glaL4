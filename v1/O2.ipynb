{
 "cells": [
  {
   "cell_type": "code",
   "execution_count": 1,
   "metadata": {
    "ExecuteTime": {
     "end_time": "2017-04-10T15:58:31.726028",
     "start_time": "2017-04-10T15:58:31.081499"
    },
    "code_folding": [
     0
    ],
    "collapsed": true,
    "deletable": true,
    "editable": true
   },
   "outputs": [],
   "source": [
    "# Preparations\n",
    "import math\n",
    "import pandas as pd\n",
    "import matplotlib.pyplot as plt\n",
    "import matplotlib.patches as mpatches\n",
    "import numpy as np\n",
    "from scipy import stats\n",
    "from scipy.optimize import curve_fit\n",
    "import seaborn as sns\n",
    "from IPython.display import Latex\n",
    "import warnings\n",
    "from PrettyTable import PrettyTable\n",
    "from functools import partial\n",
    "from PrettyFigure import PrettyFigure\n",
    "warnings.filterwarnings(\"ignore\", module=\"matplotlib\")\n",
    "%matplotlib inline\n",
    "%config InlineBackend.figure_format = 'svg'\n",
    "plt.rcParams['savefig.dpi'] = 75\n",
    "\n",
    "# plt.rcParams['figure.autolayout'] = False\n",
    "# plt.rcParams['figure.figsize'] = 10, 6\n",
    "plt.rcParams['axes.labelsize'] = 18\n",
    "plt.rcParams['axes.titlesize'] = 20\n",
    "plt.rcParams['font.size'] = 16\n",
    "plt.rcParams['lines.linewidth'] = 2.0\n",
    "plt.rcParams['lines.markersize'] = 8\n",
    "plt.rcParams['legend.fontsize'] = 14\n",
    "\n",
    "plt.rcParams['text.usetex'] = True\n",
    "plt.rcParams['text.latex.unicode'] = True\n",
    "plt.rcParams['font.family'] = \"STIX\"\n",
    "plt.rcParams['text.latex.preamble'] = \"\\\\usepackage{subdepth}, \\\\usepackage{type1cm}\"\n",
    "\n",
    "results = {}\n",
    "\n",
    "sns.set(color_codes=True)\n",
    "\n",
    "def average(data):\n",
    "    return 1 / len(data) * sum(data)\n",
    "\n",
    "def error(data, average_of_data):\n",
    "    s = sum([(x - average_of_data)**2 for x in data])\n",
    "    return math.sqrt(s / (len(data) * (len(data) - 1)))\n",
    "\n",
    "def std_deviation(error_of_average, length_of_dataset):\n",
    "    return error_of_average * math.sqrt(length_of_dataset)\n",
    "\n",
    "def average_with_weights(data, weights):\n",
    "    d = data\n",
    "    w = weights\n",
    "    return (d * w**-2).sum() / (w**-2).sum()\n",
    "\n",
    "def error_with_weights(weights):\n",
    "    w = weights\n",
    "    return 1 / math.sqrt((w**-2).sum())\n",
    "\n",
    "def wavg(group, avg_name, weight_name):\n",
    "    d = group[avg_name]\n",
    "    w = group[weight_name]\n",
    "    return (d * w**-2).sum() / (w**-2).sum()\n",
    "\n",
    "def werr(group, weight_name):\n",
    "    return 1 / math.sqrt((group[weight_name]**-2).sum())"
   ]
  },
  {
   "cell_type": "code",
   "execution_count": 2,
   "metadata": {
    "ExecuteTime": {
     "end_time": "2017-04-10T15:58:31.735374",
     "start_time": "2017-04-10T15:58:31.727314"
    },
    "code_folding": [],
    "collapsed": false,
    "deletable": true,
    "editable": true
   },
   "outputs": [],
   "source": [
    "# Constants\n",
    "c0 = 299792458 # [m / s]\n",
    "f1 = 1 # [m]\n",
    "f2 = 4.994 # [m]\n",
    "s1 = 0.110 # [m]\n",
    "s2 = 4.873 # [m]\n",
    "AE = 0.4 # [g / m^3]\n",
    "fmax = 1 # [g / m^3]\n",
    "phi = f / fmax\n",
    "T = 23 # [K]\n",
    "ps = 0.03 # [Pa]\n",
    "\n",
    "nn = 0\n",
    "pn = 0 # [Pa]\n",
    "Tn = 0 # [K]\n",
    "beta = 4.292e-8 # [1 / mbar]\n",
    "gamma = 3.43e-2 # [(nm)^2 / mbar]\n",
    "lambda0 = 632.8 #[nm]\n",
    "pw = f\n",
    "\n",
    "#n = (nn - 1) * p * Tn / (pn * T) - (beta - gamma / lambda0**2) * pw + 1\n",
    "\n",
    "#ctheoretisch = c0 / n # [m / s]"
   ]
  },
  {
   "cell_type": "code",
   "execution_count": 3,
   "metadata": {
    "ExecuteTime": {
     "end_time": "2017-04-10T15:58:33.670889",
     "start_time": "2017-04-10T15:58:31.736718"
    },
    "code_folding": [
     0
    ],
    "collapsed": false,
    "deletable": true,
    "editable": true
   },
   "outputs": [
    {
     "data": {
      "text/html": [
       "<img src=\"images/figures/lichtgeschwindigkeiten_distanz_Almar.png\" alt=\"Gemessene Distanzen. Dazu einen linearen Fit um die Mittlere Distanz zu bestimmen.\" style=\"display: block;margin-left: auto;margin-right: auto\">\n",
       "<p style=\"text-align:center\">Gemessene Distanzen. Dazu einen linearen Fit um die Mittlere Distanz zu bestimmen.</p>\n"
      ],
      "text/latex": [
       "\\begin{figure*}[!htbp]\n",
       "    \\begin{center}\\adjustimage{max size={0.9\\linewidth}{0.4\\paperheight}}{images/figures/lichtgeschwindigkeiten_distanz_Almar.pdf}\\end{center}\n",
       "    \\caption{Gemessene Distanzen. Dazu einen linearen Fit um die Mittlere Distanz zu bestimmen.}\n",
       "    \\label{fig:lichtgeschwindigkeiten_distanz_Almar}\n",
       "\\end{figure*}\n",
       "        "
      ],
      "text/plain": [
       "<PrettyFigure.PrettyFigure at 0x109022320>"
      ]
     },
     "metadata": {},
     "output_type": "display_data"
    },
    {
     "name": "stdout",
     "output_type": "stream",
     "text": [
      "304783053.829\n"
     ]
    }
   ],
   "source": [
    "#x = (1 / c) * 2 * omega * (s2 + fs) * (2 * f1) + x0\n",
    "\n",
    "# Read Data\n",
    "dfb = pd.read_csv('data/measurements.csv')\n",
    "ax = None\n",
    "dfa = dfb.loc[dfb['observer'] == 'Almar']\n",
    "dfn = dfb.loc[dfb['observer'] == 'Noah']\n",
    "\n",
    "slopea, intercepta, sem, r, p = stats.linregress(dfa['f'], dfa['x'])\n",
    "slopen, interceptn, sem, r, p = stats.linregress(dfn['f'], dfn['x'])\n",
    "\n",
    "ax = dfa.plot(kind='scatter', x='f', y='x', label='gemessene Distanz [Almar]')\n",
    "plt.plot(dfa['f'], dfa['f'] * slopea + intercepta, label='linearer Fit der Distanz [Almar]', axes=ax)\n",
    "plt.plot(dfn['f'], dfn['f'] * slopen + interceptn, label='linearer Fit der Distanz [Noah]', axes=ax, color='red')\n",
    "plt.scatter(dfn['f'], dfn['x'], label='gemessene Distanz [Noah]', axes=ax, color='red')\n",
    "plt.xlabel('Frequenz [Hz]')\n",
    "plt.ylabel('Strecke [m]')\n",
    "plt.legend(bbox_to_anchor=(0.02, 0.98), loc=2, borderaxespad=0.2)\n",
    "\n",
    "plt.close()\n",
    "figure = PrettyFigure(\n",
    "    ax.figure,\n",
    "    label='fig:lichtgeschwindigkeiten_distanz_Almar',\n",
    "    caption='Gemessene Distanzen. Dazu einen linearen Fit um die Mittlere Distanz zu bestimmen.'\n",
    ")\n",
    "figure.show()\n",
    "\n",
    "c = (1 / ((slopen + slopea) / 2 / 1e4)) * 2 * 2 * math.pi * (s2 + f2) * (2 * f1)\n",
    "print(c)"
   ]
  },
  {
   "cell_type": "code",
   "execution_count": null,
   "metadata": {
    "ExecuteTime": {
     "end_time": "2017-04-10T15:58:35.132151",
     "start_time": "2017-04-10T15:58:33.672599"
    },
    "collapsed": false,
    "deletable": true,
    "editable": true
   },
   "outputs": [],
   "source": [
    "V = [15, 12.5, 10, 7.5, 5, 2.5]\n",
    "rpm = [863, 718, 566, 411, 269, 106]\n",
    "\n",
    "plt.plot(V, rpm)"
   ]
  },
  {
   "cell_type": "markdown",
   "metadata": {},
   "source": [
    "# Arbeitsgrundlagen\n",
    "\n",
    "## Lichtgeschwindigkeit in der Theorie\n",
    "\n",
    "Die Lichtgeschwindigkeit im Vakuum wurde 1983 durch die Internationale Konferenz für Mass und Gewicht (ICPM) auf exakt\n",
    "\n",
    "<center>\n",
    "$c_0 = 299'792'458 \\frac{m}{s}$\n",
    "</center>\n",
    "    \n",
    "festgelegt.\n",
    "\n",
    "Im Medium kann die Lichtgeschwindigkeit über den Brechungsindex $n$ bestimmt werden mit\n",
    "\n",
    "\\begin{equation}\n",
    "c = \\frac{c_0}{n}\n",
    "\\label{eq:c}\n",
    "\\end{equation}\n",
    "\n",
    "Der Brechungsindex wiederum kann durch\n",
    "\n",
    "\\begin{equation}\n",
    "n = (n_n - 1) \\cdot \\frac{pT_n}{p_nT} - \\Big(\\beta-\\frac{\\gamma}{\\lambda_0^2}\\Big)\\cdot p_w -1\n",
    "\\label{eq:n}\n",
    "\\end{equation}\n",
    "\n",
    "bestimmt werden. Hierbei gilt:\n",
    "\n",
    "<center>\n",
    "n_n = Normbrechungsindex für trockene Luft  \n",
    "$\\beta = 4.292\\cdot10^{-8}mbar^{-1}$  \n",
    "$\\gamma = 3.43\\cdot10^{-2}(nm)^2mbar^{-1}$  \n",
    "$\\lambda_0 \\approx \\lambda = 632.8 nm$  \n",
    "$p_w = AE \\cdot p_s = 0.4 \\cdot 0.03 \\cdot 10^3 mbar$\n",
    "</center>\n",
    "\n",
    "Somit errechnet sich die theoretische Lichtgeschwindigkeit im Zimmer als $c = 0\\frac{m}{s}$.\n",
    "\n",
    "## Messung der Lichtgeschwindigkeit nach Michelson\n",
    "\n",
    "Beim Versuch von Michelson geht es drum den Lichtstrahl eines Lasers über verschiedene Spiegel, Linsen und Blenden zu schicken. Etwa in der mitte der totalen Distanz trifft der Strahl auf einen rotierenden Laser. Da das Licht auch nur endlich schnell ist, trifft das Licht auf dem Rückweg nicht an der selben Stelle auf dem rotierenden Spiegel auf wie auf dem Hinweg.\n",
    "Somit kann über die zurückgelegte Distanz und die Verschiebung des Aufpralls auf dem Spiegel, sowie der bekannten Drehzahl die Lichtgeschwindigkeit errechnet werden.\n",
    "\n",
    "![Versuchsaufbau nach Michelson. Ennommen aus der Aufgabenstellung](images/michelson.png)\n",
    "\n",
    "Der Versuchsaufbau kann äquialent wie folgt dargestellt werden\n",
    "\n",
    "![Äuquvaente Linsenkonfiguration nach Michelson. Ennommen aus der Aufgabenstellung](images/aequiv.png)\n",
    "\n",
    "Der rotierende Spiegel wird zwischen dem ersten und dem zweiten Reflektieren des Strahls um den Winkel $\\delta$ gedreht\n",
    "\n",
    "\\begin{equation}\n",
    "\\delta = \\omega\\Delta t = \\omega \\frac{2(S_2+D_2)}{c}\n",
    "\\label{eq:delta}\n",
    "\\end{equation}\n"
   ]
  }
 ],
 "metadata": {
  "kernelspec": {
   "display_name": "Python 3",
   "language": "python",
   "name": "python3"
  },
  "language_info": {
   "codemirror_mode": {
    "name": "ipython",
    "version": 3
   },
   "file_extension": ".py",
   "mimetype": "text/x-python",
   "name": "python",
   "nbconvert_exporter": "python",
   "pygments_lexer": "ipython3",
   "version": "3.5.1"
  },
  "toc": {
   "nav_menu": {
    "height": "12px",
    "width": "252px"
   },
   "navigate_menu": true,
   "number_sections": true,
   "sideBar": true,
   "threshold": 4,
   "toc_cell": false,
   "toc_section_display": "block",
   "toc_window_display": false
  }
 },
 "nbformat": 4,
 "nbformat_minor": 2
}
